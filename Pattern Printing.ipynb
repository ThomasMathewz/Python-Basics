{
 "cells": [
  {
   "cell_type": "code",
   "execution_count": 5,
   "id": "945505d4-536a-4538-b052-4d693fd552e5",
   "metadata": {},
   "outputs": [
    {
     "name": "stdin",
     "output_type": "stream",
     "text": [
      "Enter the height :  4\n"
     ]
    },
    {
     "name": "stdout",
     "output_type": "stream",
     "text": [
      "   *\n",
      "  * *\n",
      " *   *\n",
      "*     *\n"
     ]
    }
   ],
   "source": [
    "lim = int(input(\"Enter the height : \"))\n",
    "s = lim - 1    # space at first\n",
    "sm = 1         # space at middle\n",
    "for i in range(1,lim+1):\n",
    "    if i == 1:\n",
    "        print(\" \"*s + \"*\")\n",
    "        s -= 1\n",
    "    else:\n",
    "        print(\" \"*s + \"*\" + \" \"*sm + \"*\" )\n",
    "        s -= 1\n",
    "        sm += 2"
   ]
  },
  {
   "cell_type": "code",
   "execution_count": 13,
   "id": "d84fff32-ce2b-4904-bcab-14e2e4a36b23",
   "metadata": {},
   "outputs": [
    {
     "name": "stdin",
     "output_type": "stream",
     "text": [
      "Enter the height :  4\n"
     ]
    },
    {
     "name": "stdout",
     "output_type": "stream",
     "text": [
      "   *\n",
      "  ***\n",
      " *****\n",
      "*******\n"
     ]
    }
   ],
   "source": [
    "lim = int(input(\"Enter the height : \"))\n",
    "s = lim - 1       # space at first\n",
    "n = 1             # number of stars\n",
    "for i in range(1,lim+1):\n",
    "    print(\" \"*s + \"*\"*n)\n",
    "    s -= 1        # decreasing the space with each line \n",
    "    n += 2        # increasing number of stars by 2 -> 1,3,5,7,9,...\n"
   ]
  },
  {
   "cell_type": "code",
   "execution_count": 19,
   "id": "b493714d-86d3-488b-b47c-6ce2da4008e6",
   "metadata": {},
   "outputs": [
    {
     "name": "stdin",
     "output_type": "stream",
     "text": [
      "Enter the height :  5\n"
     ]
    },
    {
     "name": "stdout",
     "output_type": "stream",
     "text": [
      "*********\n",
      " *******\n",
      "  *****\n",
      "   ***\n",
      "    *\n"
     ]
    }
   ],
   "source": [
    "lim = int(input(\"Enter the height : \"))\n",
    "s = 0               # space at first\n",
    "for i in range(lim,0,-1):\n",
    "    n = (2*i)-1     # number of stars\n",
    "    print(\" \"*s + \"*\"*n)\n",
    "    s += 1        \n",
    "                  # n-th odd number = 2(n)-1\n",
    "                  # odd(5) = 2(5)-1 = 9"
   ]
  }
 ],
 "metadata": {
  "kernelspec": {
   "display_name": "Python [conda env:base] *",
   "language": "python",
   "name": "conda-base-py"
  },
  "language_info": {
   "codemirror_mode": {
    "name": "ipython",
    "version": 3
   },
   "file_extension": ".py",
   "mimetype": "text/x-python",
   "name": "python",
   "nbconvert_exporter": "python",
   "pygments_lexer": "ipython3",
   "version": "3.12.7"
  }
 },
 "nbformat": 4,
 "nbformat_minor": 5
}
