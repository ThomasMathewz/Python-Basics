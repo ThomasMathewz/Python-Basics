{
 "cells": [
  {
   "cell_type": "markdown",
   "id": "6eb16186-ae1e-46ac-96db-26de45783532",
   "metadata": {},
   "source": [
    "# Numpy\n",
    "> - stands for numerical python\n",
    "> - provides array"
   ]
  },
  {
   "cell_type": "markdown",
   "id": "a669e353-8d52-4cd5-8850-fa8934d26e30",
   "metadata": {},
   "source": [
    "## Array\n",
    "> - collection of homogenous elements\n",
    "> - faster than __list__\n"
   ]
  },
  {
   "cell_type": "code",
   "execution_count": 5,
   "id": "2012307a-6b57-41cc-958f-56026088f89e",
   "metadata": {},
   "outputs": [
    {
     "name": "stdout",
     "output_type": "stream",
     "text": [
      "[10  9 11 13 45 23] \n",
      " <class 'numpy.ndarray'>\n"
     ]
    }
   ],
   "source": [
    "import numpy as np\n",
    "\n",
    "lst = [10,9,11,13,45,23]\n",
    "arr = np.array(lst)\n",
    "print(arr,\"\\n\",type(arr))"
   ]
  },
  {
   "cell_type": "code",
   "execution_count": 6,
   "id": "ac8dd61d-0d0c-4088-9107-8eacce283e24",
   "metadata": {},
   "outputs": [
    {
     "name": "stdout",
     "output_type": "stream",
     "text": [
      "0.3419468402862549\n"
     ]
    }
   ],
   "source": [
    "import time\n",
    "st = time.time()\n",
    "lst = [i for i in range(1000000)]\n",
    "for i in range(len(lst)):\n",
    "    lst[i]*=6\n",
    "tt = time.time() - st\n",
    "print(tt)"
   ]
  },
  {
   "cell_type": "code",
   "execution_count": 15,
   "id": "896c7e1c-5dbf-49c9-ab99-2baf6740fd20",
   "metadata": {},
   "outputs": [
    {
     "name": "stdout",
     "output_type": "stream",
     "text": [
      "0.007944822311401367\n"
     ]
    }
   ],
   "source": [
    "import time\n",
    "import numpy as np\n",
    "st = time.time()\n",
    "arr = np.arange(1,1000000)\n",
    "arr*6\n",
    "tt = time.time() - st\n",
    "print(tt)"
   ]
  },
  {
   "cell_type": "markdown",
   "id": "ce78dd30-b90d-4d0f-889e-eb63f836010f",
   "metadata": {},
   "source": [
    "### Array Operations"
   ]
  },
  {
   "cell_type": "code",
   "execution_count": 14,
   "id": "e4696f48-43e2-4089-9069-8ea856a5774f",
   "metadata": {},
   "outputs": [
    {
     "name": "stdout",
     "output_type": "stream",
     "text": [
      "999999\n",
      "999999\n",
      "(999999,)\n",
      "int32\n"
     ]
    }
   ],
   "source": [
    "arr = np.arange(1,1000000)\n",
    "print(arr.size)    # gives size of the array\n",
    "print(len(arr))\n",
    "print(arr.shape)   # dimesnsion of the array\n",
    "print(arr.dtype)   # returns type of elements"
   ]
  },
  {
   "cell_type": "code",
   "execution_count": 28,
   "id": "a81d5eb1-0ca9-4c3c-8636-422128cee8c2",
   "metadata": {},
   "outputs": [
    {
     "name": "stdout",
     "output_type": "stream",
     "text": [
      "0\n",
      "1\n",
      "2\n"
     ]
    }
   ],
   "source": [
    "ar = np.array(6)     # single value\n",
    "print(ar.ndim)\n",
    "ar = np.array([6])   # passing a itterable (list)\n",
    "print(ar.ndim)\n",
    "ar1 = np.array([[6,3,4,5,6,7],[1,2,3,4,6,5],[9,8,87,2,65,5]])   # passing a itterable (list) which is 2 dimensional \n",
    "print(ar1.ndim)"
   ]
  },
  {
   "cell_type": "markdown",
   "id": "f56d1bf1-90be-4000-810c-54bcdbf1b284",
   "metadata": {},
   "source": [
    "### Array Upcasting\n",
    "> int --> float --> complex --> string"
   ]
  },
  {
   "cell_type": "code",
   "execution_count": 25,
   "id": "930c2025-e5ba-4d99-a448-9e5793094a7c",
   "metadata": {},
   "outputs": [],
   "source": [
    "import numpy as np"
   ]
  },
  {
   "cell_type": "code",
   "execution_count": 27,
   "id": "5a64135d-d087-4244-8c8d-84ee8e4fc55b",
   "metadata": {},
   "outputs": [
    {
     "name": "stdout",
     "output_type": "stream",
     "text": [
      "float64\n"
     ]
    }
   ],
   "source": [
    "ar = np.array([1,2,3,4,5,3.4])\n",
    "print(ar.dtype)"
   ]
  },
  {
   "cell_type": "code",
   "execution_count": 29,
   "id": "14357858-f1a2-4ee2-9654-c78d77c828a9",
   "metadata": {},
   "outputs": [
    {
     "name": "stdout",
     "output_type": "stream",
     "text": [
      "complex128\n"
     ]
    }
   ],
   "source": [
    "ar = np.array([1,2+7j,3,4,5,3.4])\n",
    "print(ar.dtype)"
   ]
  },
  {
   "cell_type": "code",
   "execution_count": 32,
   "id": "8113d3b9-2dc6-4811-87cd-c4912942d394",
   "metadata": {},
   "outputs": [
    {
     "name": "stdout",
     "output_type": "stream",
     "text": [
      "<U32\n"
     ]
    }
   ],
   "source": [
    "ar = np.array([1,2,\"String\",4,5,3.4])\n",
    "print(ar.dtype)                #U32 means unicode with 32 as size"
   ]
  },
  {
   "cell_type": "markdown",
   "id": "913d0811-9e31-43c0-ba5e-3c4c9e129d94",
   "metadata": {},
   "source": [
    "### Reshape Function\n",
    "> change the dimension of an array"
   ]
  },
  {
   "cell_type": "code",
   "execution_count": 33,
   "id": "fc1021b1-b12a-44de-9018-c7ab8b0ec8f2",
   "metadata": {},
   "outputs": [],
   "source": [
    "import numpy as np"
   ]
  },
  {
   "cell_type": "code",
   "execution_count": 34,
   "id": "21da7fb6-6e33-42fb-9f7a-9ac5b89d0f0b",
   "metadata": {},
   "outputs": [
    {
     "name": "stdout",
     "output_type": "stream",
     "text": [
      "[1 2 3 4 5 6 7 8 9]\n",
      "[[1 2 3]\n",
      " [4 5 6]\n",
      " [7 8 9]]\n"
     ]
    }
   ],
   "source": [
    "ar = np.array([1,2,3,4,5,6,7,8,9])\n",
    "print(ar)\n",
    "ar = ar.reshape(3,3)\n",
    "print(ar)"
   ]
  },
  {
   "cell_type": "markdown",
   "id": "d7893bda-13ac-42c0-819d-34433db50a64",
   "metadata": {},
   "source": [
    "### Arange Function\n",
    "> same as range(start,stop,stepsize) but here it will return a array as output"
   ]
  },
  {
   "cell_type": "code",
   "execution_count": 40,
   "id": "c311fef6-f51b-4ec5-88c4-fb89f198cb6d",
   "metadata": {},
   "outputs": [],
   "source": [
    "import numpy as np"
   ]
  },
  {
   "cell_type": "code",
   "execution_count": 18,
   "id": "7c27e2cd-dec1-4bf6-9e00-feb9c2bc5c9f",
   "metadata": {},
   "outputs": [
    {
     "name": "stdout",
     "output_type": "stream",
     "text": [
      "[1, 7, 13, 19, 25, 31, 37, 43, 49]\n",
      "[ 1  7 13 19 25 31 37 43 49]\n"
     ]
    }
   ],
   "source": [
    "lst = list(range(1,50,6))\n",
    "print(lst)\n",
    "ar = np.arange(1,50,6)\n",
    "print(ar)"
   ]
  },
  {
   "cell_type": "markdown",
   "id": "c5b39636-9b9e-4363-9999-6162a8d2cfcc",
   "metadata": {},
   "source": [
    "### Linspace Function\n",
    "> create in a range equally spaced value array"
   ]
  },
  {
   "cell_type": "code",
   "execution_count": 47,
   "id": "bc1613e6-5582-41d9-b603-7fdda477a860",
   "metadata": {},
   "outputs": [
    {
     "data": {
      "text/plain": [
       "array([ 1.        ,  1.47368421,  1.94736842,  2.42105263,  2.89473684,\n",
       "        3.36842105,  3.84210526,  4.31578947,  4.78947368,  5.26315789,\n",
       "        5.73684211,  6.21052632,  6.68421053,  7.15789474,  7.63157895,\n",
       "        8.10526316,  8.57894737,  9.05263158,  9.52631579, 10.        ])"
      ]
     },
     "execution_count": 47,
     "metadata": {},
     "output_type": "execute_result"
    }
   ],
   "source": [
    "import numpy as np\n",
    "np.linspace(1,10,20)  # it will take 10 also not like a range"
   ]
  },
  {
   "cell_type": "markdown",
   "id": "bd6cd383-477f-451c-a042-9c54b9ad6701",
   "metadata": {},
   "source": [
    "### Zeros Function\n",
    "> generating array of zeros in given shape"
   ]
  },
  {
   "cell_type": "code",
   "execution_count": 51,
   "id": "406c3e63-f472-4cb0-8589-09a651586ad3",
   "metadata": {},
   "outputs": [
    {
     "name": "stdout",
     "output_type": "stream",
     "text": [
      "[[0. 0. 0. 0.]\n",
      " [0. 0. 0. 0.]\n",
      " [0. 0. 0. 0.]]\n"
     ]
    }
   ],
   "source": [
    "z = np.zeros((3,4))     # it will give float as default\n",
    "print(z)"
   ]
  },
  {
   "cell_type": "code",
   "execution_count": 50,
   "id": "ab3a897c-df53-4c46-89b4-cbbee0d539bc",
   "metadata": {},
   "outputs": [
    {
     "name": "stdout",
     "output_type": "stream",
     "text": [
      "[[0 0 0 0]\n",
      " [0 0 0 0]\n",
      " [0 0 0 0]]\n"
     ]
    }
   ],
   "source": [
    "z = np.zeros((3,4),dtype=int)\n",
    "print(z)"
   ]
  },
  {
   "cell_type": "markdown",
   "id": "a211a541-37b3-4586-9a84-fda1bb47c1c2",
   "metadata": {},
   "source": [
    "### Ones Function"
   ]
  },
  {
   "cell_type": "code",
   "execution_count": 52,
   "id": "1f5ab73a-e642-41b0-a78e-e1f63680bb72",
   "metadata": {},
   "outputs": [
    {
     "name": "stdout",
     "output_type": "stream",
     "text": [
      "[[1 1 1 1]\n",
      " [1 1 1 1]\n",
      " [1 1 1 1]]\n"
     ]
    }
   ],
   "source": [
    "z = np.ones((3,4),dtype=int)\n",
    "print(z)    "
   ]
  },
  {
   "cell_type": "markdown",
   "id": "46f620c1-5f98-4d4d-99b3-f328fbff9a5a",
   "metadata": {},
   "source": [
    "### Eye Function\n",
    "> create a identity metrix - diagonals are all 1 and rest 0"
   ]
  },
  {
   "cell_type": "code",
   "execution_count": 57,
   "id": "145f36d0-9011-4d13-8798-11902d151a82",
   "metadata": {},
   "outputs": [
    {
     "name": "stdout",
     "output_type": "stream",
     "text": [
      "[[1 0 0]\n",
      " [0 1 0]\n",
      " [0 0 1]]\n"
     ]
    }
   ],
   "source": [
    "z = np.eye(3,3,dtype=int)  # note: syntax is different from all the above\n",
    "print(z)"
   ]
  },
  {
   "cell_type": "markdown",
   "id": "29aba740-02ee-41eb-8182-452e105c9868",
   "metadata": {},
   "source": [
    "## Array of Random Numbers"
   ]
  },
  {
   "cell_type": "markdown",
   "id": "965e3c80-c7ae-49a2-8da1-bd4d36d2f71c",
   "metadata": {},
   "source": [
    "### Random.random function\n",
    "> create a 1-D array with values between 0 and 1"
   ]
  },
  {
   "cell_type": "code",
   "execution_count": 63,
   "id": "f46ffcbc-afe4-4405-88b2-6f03a2ae4649",
   "metadata": {},
   "outputs": [
    {
     "name": "stdout",
     "output_type": "stream",
     "text": [
      "[0.01110297 0.25407325 0.74158005 0.3363592  0.63717021 0.52585901\n",
      " 0.78560477 0.88931409 0.18242553 0.35821512]\n",
      "\n",
      "[[0.70605462 0.41507117 0.8953012 ]\n",
      " [0.98159416 0.4172217  0.21061375]\n",
      " [0.72657026 0.18572686 0.88942793]]\n"
     ]
    }
   ],
   "source": [
    "z = np.random.random(10)\n",
    "print(z)\n",
    "print()\n",
    "z = np.random.random(9).reshape(3,3)   # use reshape to change dimesnsion\n",
    "print(z)"
   ]
  },
  {
   "cell_type": "markdown",
   "id": "08fc20ae-4c14-4012-8974-10f59581c044",
   "metadata": {},
   "source": [
    "### Random.rand Function\n",
    "> - create a random array with given shape\n",
    "> - __random.rand(block(dimesnion) , rows , columns)__"
   ]
  },
  {
   "cell_type": "code",
   "execution_count": 71,
   "id": "e65ced06-fad2-473c-9d13-ea9a0dd09174",
   "metadata": {},
   "outputs": [
    {
     "name": "stdout",
     "output_type": "stream",
     "text": [
      "[[[0.78330621 0.54758975 0.61149529 0.70846099 0.5252535  0.26980448\n",
      "   0.95744019 0.53994448 0.2173599  0.10087171]\n",
      "  [0.43737894 0.67468246 0.15326197 0.37555194 0.77068322 0.81196528\n",
      "   0.4209989  0.42058357 0.2370632  0.93159237]\n",
      "  [0.79391071 0.8068927  0.49673795 0.59573323 0.73750777 0.23701231\n",
      "   0.57945851 0.11164759 0.0807775  0.36291006]]\n",
      "\n",
      " [[0.96872642 0.47585861 0.63363367 0.53235528 0.00207209 0.16065109\n",
      "   0.70198128 0.13629833 0.77611326 0.41897026]\n",
      "  [0.75223072 0.93940425 0.2733287  0.24325736 0.24558334 0.22383311\n",
      "   0.61827742 0.26734499 0.42576375 0.78325731]\n",
      "  [0.0048064  0.89244769 0.06802999 0.87440497 0.94156424 0.6118637\n",
      "   0.33687642 0.42671002 0.99823533 0.93884224]]]\n"
     ]
    }
   ],
   "source": [
    "z = np.random.rand(2,3,10)\n",
    "print(z)"
   ]
  },
  {
   "cell_type": "code",
   "execution_count": 73,
   "id": "79ad08c2-c725-479a-bfc5-fd00ebc9c80d",
   "metadata": {},
   "outputs": [
    {
     "name": "stdout",
     "output_type": "stream",
     "text": [
      "[[0.26896303 0.46486399 0.03179718 0.39990629 0.1316488  0.13088358\n",
      "  0.86427065 0.55543689 0.16387151 0.37208312]\n",
      " [0.93397054 0.45230793 0.89035329 0.6978723  0.46732143 0.52966865\n",
      "  0.60319082 0.95807868 0.27543279 0.94034566]]\n"
     ]
    }
   ],
   "source": [
    "z = np.random.rand(2,10)\n",
    "print(z)"
   ]
  },
  {
   "cell_type": "markdown",
   "id": "950cff58-a249-4664-8452-1ede9c4a6f5c",
   "metadata": {},
   "source": [
    "### Random.randint function\n",
    "> - returns an array of value lies in a range\n",
    "> - __random.randint(start_num , end_num , num_values_between_start&end)__"
   ]
  },
  {
   "cell_type": "code",
   "execution_count": 74,
   "id": "7f806acb-5d08-4d1c-a50b-617d81a554dc",
   "metadata": {},
   "outputs": [
    {
     "name": "stdout",
     "output_type": "stream",
     "text": [
      "[ 6  1  5 10 10  3  2  4  1  2  9  9  1  5  5]\n",
      "[[8 9 1 9 6]\n",
      " [2 5 2 5 6]\n",
      " [2 7 2 3 5]]\n"
     ]
    }
   ],
   "source": [
    "z = np.random.randint(1,11,15)\n",
    "print(z)\n",
    "z = np.random.randint(1,11,15).reshape(3,5)\n",
    "print(z)"
   ]
  },
  {
   "cell_type": "markdown",
   "id": "27e8b9bb-cd8c-496e-987a-57a35538d5a8",
   "metadata": {},
   "source": [
    "### Random.seed function\n",
    "> - fix the random seed state\n",
    "> - once random state seed is set we get same random value every time\n",
    "> - fixes the random state only for the next execution"
   ]
  },
  {
   "cell_type": "code",
   "execution_count": 97,
   "id": "3df3fe80-4713-4959-a85a-608cc295aad6",
   "metadata": {},
   "outputs": [
    {
     "data": {
      "text/plain": [
       "array([42, 82, 33, 57, 16, 85, 37, 63, 30, 56])"
      ]
     },
     "execution_count": 97,
     "metadata": {},
     "output_type": "execute_result"
    }
   ],
   "source": [
    "np.random.seed(270)\n",
    "np.random.randint(10,100,10)"
   ]
  },
  {
   "cell_type": "code",
   "execution_count": 82,
   "id": "e8a50f27-4224-408b-b21a-16e2bc6dbba8",
   "metadata": {},
   "outputs": [],
   "source": [
    "np.random.seed(270)   # if in 2 cell it will only work for one next execution, second time running below line wont work"
   ]
  },
  {
   "cell_type": "code",
   "execution_count": 91,
   "id": "ef1ea0e3-4f1d-40cd-bfed-b75bb0a8ca52",
   "metadata": {},
   "outputs": [
    {
     "data": {
      "text/plain": [
       "array([51, 94, 21, 92, 79, 91, 11, 61, 30, 69])"
      ]
     },
     "execution_count": 91,
     "metadata": {},
     "output_type": "execute_result"
    }
   ],
   "source": [
    "np.random.randint(10,100,10)"
   ]
  },
  {
   "cell_type": "code",
   "execution_count": 96,
   "id": "33bed227-3762-49f2-b3f0-cfcf8591d4a7",
   "metadata": {},
   "outputs": [
    {
     "data": {
      "text/plain": [
       "array([45, 44, 22, 81, 62, 74, 96, 99, 42, 21])"
      ]
     },
     "execution_count": 96,
     "metadata": {},
     "output_type": "execute_result"
    }
   ],
   "source": [
    "np.random.seed(2**32-1)  # last random state\n",
    "np.random.randint(10,100,10)"
   ]
  },
  {
   "cell_type": "markdown",
   "id": "e00dfde9-0f9c-45ba-a026-44d1a997fae9",
   "metadata": {},
   "source": [
    "## 2D Array"
   ]
  },
  {
   "cell_type": "code",
   "execution_count": 13,
   "id": "cb9cd96f-671e-4f64-820b-db42504290d0",
   "metadata": {},
   "outputs": [
    {
     "name": "stdout",
     "output_type": "stream",
     "text": [
      "[[1 2 3]\n",
      " [4 5 6]\n",
      " [7 8 9]]\n",
      "2\n",
      "(3, 3)\n"
     ]
    }
   ],
   "source": [
    "import numpy as np\n",
    "lst = [[1,2,3],[4,5,6],[7,8,9]]\n",
    "ar = np.array(lst)\n",
    "print(ar)\n",
    "print(ar.ndim)\n",
    "print(ar.shape)"
   ]
  },
  {
   "cell_type": "code",
   "execution_count": 51,
   "id": "243ee69e-afaa-4841-91ad-de14d507609d",
   "metadata": {},
   "outputs": [
    {
     "name": "stdout",
     "output_type": "stream",
     "text": [
      "[[94 50 90 92 32]\n",
      " [15 96 46  1 59]\n",
      " [46 72 13 26 81]\n",
      " [10 86 41 48 12]]\n",
      "(4, 5)\n",
      "[94 50 90 92 32]\n",
      "90\n",
      "[[94 50 90 92 32]\n",
      " [15 96 46  1 59]]\n"
     ]
    }
   ],
   "source": [
    "x = np.random.randint(1,100,20).reshape(4,5)\n",
    "x = np.array(x)\n",
    "print(x)\n",
    "print(x.shape)\n",
    "print(x[0])\n",
    "print(x[0,2])\n",
    "print(x[0:2])"
   ]
  },
  {
   "cell_type": "markdown",
   "id": "584fd17d-257e-41ea-86e0-0da0e95414dc",
   "metadata": {},
   "source": [
    "## 3D Array"
   ]
  },
  {
   "cell_type": "code",
   "execution_count": 10,
   "id": "4d784bef-8eaf-4925-8088-25dfc7e49122",
   "metadata": {},
   "outputs": [
    {
     "name": "stdout",
     "output_type": "stream",
     "text": [
      "[[[1 2 3]\n",
      "  [4 5 6]\n",
      "  [7 8 9]]]\n",
      "(1, 3, 3)\n",
      "3\n"
     ]
    }
   ],
   "source": [
    "import numpy as np\n",
    "lst = [[[1,2,3],[4,5,6],[7,8,9]]]\n",
    "ar = np.array(lst)\n",
    "print(ar)\n",
    "print(ar.shape) # (dimension,rows,colums)\n",
    "print(ar.ndim)"
   ]
  },
  {
   "cell_type": "code",
   "execution_count": 12,
   "id": "d3955b80-fa7d-4a17-8089-c1570d618046",
   "metadata": {},
   "outputs": [
    {
     "name": "stdout",
     "output_type": "stream",
     "text": [
      "[[[1 2]\n",
      "  [4 5]\n",
      "  [7 8]]\n",
      "\n",
      " [[9 8]\n",
      "  [6 5]\n",
      "  [3 2]]]\n",
      "(2, 3, 2)\n",
      "3\n"
     ]
    }
   ],
   "source": [
    "lst = [[[1,2],[4,5],[7,8]],[[9,8],[6,5],[3,2]]]\n",
    "ar = np.array(lst)\n",
    "print(ar)\n",
    "print(ar.shape) \n",
    "print(ar.ndim)"
   ]
  },
  {
   "cell_type": "code",
   "execution_count": 72,
   "id": "4806687d-a140-43fb-89a6-a9bffd686144",
   "metadata": {},
   "outputs": [
    {
     "name": "stdout",
     "output_type": "stream",
     "text": [
      "[[[18 36 20 79]\n",
      "  [29 71 47 30]\n",
      "  [65 22 82 30]]\n",
      "\n",
      " [[17 46 27 49]\n",
      "  [10 92 93 47]\n",
      "  [46 85 96 83]]\n",
      "\n",
      " [[22 33 64 66]\n",
      "  [81 96 75 46]\n",
      "  [22 10 40 84]]]\n",
      "\n",
      " First element: 18\n",
      "\n",
      " First element: 18\n",
      "\n",
      " Second element: 84\n",
      "\n",
      " Element at location -2,-2,-3: 92\n",
      "\n",
      "ar[0::2 , 0:2 , 0:3]:\n",
      " [[[18 36 20]\n",
      "  [29 71 47]]\n",
      "\n",
      " [[22 33 64]\n",
      "  [81 96 75]]]\n",
      "\n",
      "ar[1]: [[17 46 27 49]\n",
      " [10 92 93 47]\n",
      " [46 85 96 83]]\n",
      "\n",
      "First 2 rows:\n",
      " [[[18 36 20 79]\n",
      "  [29 71 47 30]]\n",
      "\n",
      " [[17 46 27 49]\n",
      "  [10 92 93 47]]\n",
      "\n",
      " [[22 33 64 66]\n",
      "  [81 96 75 46]]]\n",
      "\n",
      "Last 2 rows:\n",
      " [[[29 71 47 30]\n",
      "  [65 22 82 30]]\n",
      "\n",
      " [[10 92 93 47]\n",
      "  [46 85 96 83]]\n",
      "\n",
      " [[81 96 75 46]\n",
      "  [22 10 40 84]]]\n",
      "\n",
      "ar[1:2,1,2:4]: [[93 47]]\n"
     ]
    }
   ],
   "source": [
    "ar = np.random.randint(10,100,3*3*4).reshape(3,3,4)   #reshape(block,rows,colums)\n",
    "print(ar)\n",
    "print(\"\\n First element:\",ar[0][0][0])\n",
    "print(\"\\n First element:\",ar[0,0,0])\n",
    "print(\"\\n Second element:\",ar[-1][-1][-1])\n",
    "print(\"\\n Element at location -2,-2,-3:\",ar[-2][-2][-3])\n",
    "print(\"\\nar[0::2 , 0:2 , 0:3]:\\n\",ar[0::2 , 0:2 , 0:3])\n",
    "print(\"\\nar[1]:\",ar[1])\n",
    "print(\"\\nFirst 2 rows:\\n\",ar[:,0:2,:])\n",
    "print(\"\\nLast 2 rows:\\n\",ar[:,1:3,:])\n",
    "print(\"\\nar[1:2,1,2:4]:\",ar[1:2,1,2:4])"
   ]
  },
  {
   "cell_type": "markdown",
   "id": "45c4fa11-9240-4e93-9287-7731c0712486",
   "metadata": {},
   "source": [
    "## Functions for Array"
   ]
  },
  {
   "cell_type": "code",
   "execution_count": 83,
   "id": "9060bea6-1c95-4959-8ccc-9dfb08e5a7b3",
   "metadata": {},
   "outputs": [
    {
     "name": "stdout",
     "output_type": "stream",
     "text": [
      "[[[77 63 84]\n",
      "  [79 17 99]\n",
      "  [19 45 32]\n",
      "  [99 55 45]]\n",
      "\n",
      " [[33 63 45]\n",
      "  [64 41 65]\n",
      "  [55 43 52]\n",
      "  [68 36 29]]\n",
      "\n",
      " [[65 66 49]\n",
      "  [44 63 32]\n",
      "  [38 56 51]\n",
      "  [32 46 66]]]\n",
      "Sum: 1916\n",
      "Max: 99\n",
      "Min: 17\n",
      "Mean: 53.22222222222222\n",
      "Mean: 53.22222222222222\n",
      "Median: 51.5\n"
     ]
    }
   ],
   "source": [
    "np.random.seed(2*34-1)\n",
    "x = np.random.randint(10,100,3*4*3).reshape(3,4,3)\n",
    "print(x)\n",
    "print(\"Sum:\",np.sum(x))\n",
    "print(\"Max:\",np.max(x))\n",
    "print(\"Min:\",np.min(x))\n",
    "print(\"Mean:\",np.mean(x))\n",
    "print(\"Mean:\",np.sum(x)/x.size)\n",
    "print(\"Median:\",np.median(x))  # middle value"
   ]
  }
 ],
 "metadata": {
  "kernelspec": {
   "display_name": "Python [conda env:base] *",
   "language": "python",
   "name": "conda-base-py"
  },
  "language_info": {
   "codemirror_mode": {
    "name": "ipython",
    "version": 3
   },
   "file_extension": ".py",
   "mimetype": "text/x-python",
   "name": "python",
   "nbconvert_exporter": "python",
   "pygments_lexer": "ipython3",
   "version": "3.12.7"
  }
 },
 "nbformat": 4,
 "nbformat_minor": 5
}
