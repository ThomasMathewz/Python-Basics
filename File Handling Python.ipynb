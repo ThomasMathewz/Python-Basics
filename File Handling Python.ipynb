{
 "cells": [
  {
   "cell_type": "markdown",
   "id": "14e181de-4bb5-49f7-b7ac-00f5e8798f40",
   "metadata": {},
   "source": [
    "# Opening a File"
   ]
  },
  {
   "cell_type": "markdown",
   "id": "f1253fdd-08a4-4c7c-b1e9-01a64779e5f6",
   "metadata": {},
   "source": [
    "## Exclusive Creation"
   ]
  },
  {
   "cell_type": "code",
   "execution_count": 21,
   "id": "fd18492c-6500-453c-90a3-7bf3157cec2e",
   "metadata": {},
   "outputs": [],
   "source": [
    "f1 = open(\"file\",\"x\")  # mode x : create a file one, get error when try to create a file in same name or file already exists \n",
    "# file created"
   ]
  },
  {
   "cell_type": "code",
   "execution_count": 64,
   "id": "6f7fe11e-a651-4361-8992-6cdd3ca6ee12",
   "metadata": {},
   "outputs": [],
   "source": [
    "f1.close() # close the file\n",
    "# f1 = open(\"D:\\Desktop\\file\",\"x\")   also possible"
   ]
  },
  {
   "cell_type": "markdown",
   "id": "0ca0e98c-20a5-41ac-8cb6-894ae0e0e76e",
   "metadata": {},
   "source": [
    "## Read Mode"
   ]
  },
  {
   "cell_type": "code",
   "execution_count": 41,
   "id": "0d162380-3427-4644-b256-b6a165977e4b",
   "metadata": {},
   "outputs": [
    {
     "name": "stdout",
     "output_type": "stream",
     "text": [
      "Hello this is the newly written file\n"
     ]
    }
   ],
   "source": [
    "f1 = open(\"file\",\"r\") # mode r: file opened in read mode, if no file found then error is generated   \n",
    "data = f1.read()   # read file\n",
    "print(data)\n",
    "f1.close() "
   ]
  },
  {
   "cell_type": "code",
   "execution_count": 42,
   "id": "30f6b470-3a4a-47d2-8f7d-2185bb055a43",
   "metadata": {},
   "outputs": [
    {
     "name": "stdout",
     "output_type": "stream",
     "text": [
      "Hello this is the newly written file\n"
     ]
    }
   ],
   "source": [
    "f1 = open(\"file\")  # by default r mode\n",
    "data = f1.read()\n",
    "print(data)\n",
    "f1.close() "
   ]
  },
  {
   "cell_type": "markdown",
   "id": "ac602e2b-14af-4697-93c3-43e2f8813633",
   "metadata": {},
   "source": [
    "## Write Mode"
   ]
  },
  {
   "cell_type": "code",
   "execution_count": 40,
   "id": "535a03dc-fd3e-45c3-a967-592138c4c581",
   "metadata": {},
   "outputs": [
    {
     "name": "stdout",
     "output_type": "stream",
     "text": [
      "\n"
     ]
    }
   ],
   "source": [
    "f1 = open(\"file\",\"w\") # opened in write mode, it also creates a file if file is not found \n",
    "# when opened in write mode it will clear all the data in the file\n",
    "f1.write(\"Hello this is the newly written file\")\n",
    "f2 = open(\"file\")  # read mode\n",
    "print(f2.read())\n",
    "f1.close() # close the file"
   ]
  },
  {
   "cell_type": "markdown",
   "id": "4de0a1af-c77b-46ec-b08d-622ad5db3340",
   "metadata": {},
   "source": [
    "## Read and Write Mode \n",
    "### `r+` Mode\n",
    "> Reads a file and creates error if file not found, also help edit the file"
   ]
  },
  {
   "cell_type": "code",
   "execution_count": 43,
   "id": "1e422bd0-8147-4971-8cae-ecd9bf088d92",
   "metadata": {},
   "outputs": [
    {
     "name": "stdout",
     "output_type": "stream",
     "text": [
      "Hello this is the newly written file\n",
      "36\n",
      "42\n",
      "Hello this is the newly written file Hello\n"
     ]
    }
   ],
   "source": [
    "f1 = open(\"file\",\"r+\")  # won't create new file\n",
    "print(f1.read()) # after read file pointer at end of file\n",
    "print(f1.tell()) # tell pointer location\n",
    "f1.write(\" Hello\") # new word written to end of file & first given will edit file from the starting as the pointer moves\n",
    "print(f1.tell())\n",
    "f1.seek(0) # pointer changed to start of file\n",
    "print(f1.read()) \n",
    "f1.close() # close the file"
   ]
  },
  {
   "cell_type": "markdown",
   "id": "e0d98d9d-8b43-4596-a7f0-2e9bbe7a9c23",
   "metadata": {},
   "source": [
    "### `w+` Mode\n",
    "> overrides file and create new one if file is not found."
   ]
  },
  {
   "cell_type": "code",
   "execution_count": 61,
   "id": "7fbbef51-8af0-4723-a704-e4ab081f3072",
   "metadata": {},
   "outputs": [
    {
     "name": "stdout",
     "output_type": "stream",
     "text": [
      "44\n",
      "69\n",
      "0\n",
      "Hello this is my new file \n",
      "how are u? \t tab\n",
      " Second write function.\n"
     ]
    }
   ],
   "source": [
    "f1 = open(\"file1\",\"w+\") # new file created or already existing file data cleared\n",
    "f1.write(\"Hello this is my new file \\nhow are u? \\t tab\")\n",
    "print(f1.tell())\n",
    "f1.write(\"\\n Second write function.\")\n",
    "print(f1.tell())\n",
    "f1.seek(0) # after any operation always set the file pointer to 0 to start front the starting point\n",
    "print(f1.tell())\n",
    "print(f1.read())\n",
    "f1.close()"
   ]
  },
  {
   "cell_type": "markdown",
   "id": "931edd3b-0627-4ac4-b467-87f7ec3302c1",
   "metadata": {},
   "source": [
    "## Append Mode\n",
    "> - By default at end of the file it writes while `write` mode start at the starting point \n",
    "> - Creates new file if one dosen't exist"
   ]
  },
  {
   "cell_type": "code",
   "execution_count": 62,
   "id": "c2964fa5-f226-4339-8020-0822a62a1753",
   "metadata": {},
   "outputs": [],
   "source": [
    "f1 = open(\"file1\",\"a\")\n",
    "f1.write(\" Write at the end of the file.\")\n",
    "# no read  in append mode\n",
    "f1.close()"
   ]
  },
  {
   "cell_type": "markdown",
   "id": "4539a621-181c-4d59-a592-0de657cc590b",
   "metadata": {},
   "source": [
    "## `a+` Mode"
   ]
  },
  {
   "cell_type": "code",
   "execution_count": 63,
   "id": "6b5e4f3f-bbe3-4b5c-84f0-10db23d38608",
   "metadata": {},
   "outputs": [
    {
     "name": "stdout",
     "output_type": "stream",
     "text": [
      "Hello this is my new file \n",
      "how are u? \t tab\n",
      " Second write function. Write at the end of the file.\n",
      " Write at the end of the file.\n"
     ]
    }
   ],
   "source": [
    "f1 = open(\"file1\",\"a+\")\n",
    "f1.write(\"\\n Write at the end of the file.\")\n",
    "f1.seek(0)\n",
    "print(f1.read())\n",
    "f1.close()"
   ]
  },
  {
   "cell_type": "markdown",
   "id": "09ee7365-25f3-4c89-b0ec-6f72ddb6a77c",
   "metadata": {},
   "source": [
    "# Read Image"
   ]
  },
  {
   "cell_type": "code",
   "execution_count": 84,
   "id": "4b7bbf35-e6ef-4ac7-b56a-499367c517d5",
   "metadata": {},
   "outputs": [],
   "source": [
    "img1 = open(\"python-dark-3840x2160-16018.jpg\",\"rb\")  # mode rb, read binary\n",
    "# print(img1.read())  # print binary data commeneted as it is very long\n",
    "img1.close()\n",
    "\n"
   ]
  },
  {
   "cell_type": "markdown",
   "id": "6ff79036-621a-4e60-96b8-299d5a10c30d",
   "metadata": {},
   "source": [
    "# Write Image"
   ]
  },
  {
   "cell_type": "code",
   "execution_count": 85,
   "id": "5bb30963-eaf6-4ec4-a9ac-918a5bd58087",
   "metadata": {},
   "outputs": [],
   "source": [
    "img1 = open(\"python-dark-3840x2160-16018.jpg\",\"rb\")  # mode rb, read binary\n",
    "img2 = open(\"python-dark-3840x2160-16018-2.jpg\",\"wb\") # write binary mode\n",
    "for i in img1:\n",
    "    img2.write(i) \n",
    "\n",
    "img1.close()\n",
    "img2.close()"
   ]
  }
 ],
 "metadata": {
  "kernelspec": {
   "display_name": "Python [conda env:base] *",
   "language": "python",
   "name": "conda-base-py"
  },
  "language_info": {
   "codemirror_mode": {
    "name": "ipython",
    "version": 3
   },
   "file_extension": ".py",
   "mimetype": "text/x-python",
   "name": "python",
   "nbconvert_exporter": "python",
   "pygments_lexer": "ipython3",
   "version": "3.12.7"
  }
 },
 "nbformat": 4,
 "nbformat_minor": 5
}
