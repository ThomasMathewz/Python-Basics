{
 "cells": [
  {
   "cell_type": "markdown",
   "id": "37687af8-f5d3-4020-ac08-c83df6ea6017",
   "metadata": {},
   "source": [
    "# Python"
   ]
  },
  {
   "cell_type": "raw",
   "id": "68a11947-342d-41c3-93a0-1827a1d2b130",
   "metadata": {},
   "source": [
    "Markdown Section\n",
    "-----------------\n",
    "# Heading\n",
    "## Sub heading 1\n",
    "### Sub heading 2\n",
    " __Bold Text__     **Bold Text** \n",
    " <br>   -> new line\n",
    " _Italic Text_      *Italic Text* \n",
    " > intending    \n",
    " $+$ $-$ for entering maths symbols\n",
    "`For showing the text the same way __no bold here__`\n",
    "\n",
    "\n",
    "\n",
    "Cell Editing\n",
    "-------------------\n",
    "a -  add one cell above\n",
    "b - add one cell below\n",
    "dd - delete the cell\n",
    "z - undo\n",
    "r - raw cell\n",
    "m - markdown\n",
    "y - code\n"
   ]
  },
  {
   "cell_type": "code",
   "execution_count": 27,
   "id": "058da1ed-8c7b-4c69-8404-d26e382d3f36",
   "metadata": {
    "jp-MarkdownHeadingCollapsed": true
   },
   "outputs": [
    {
     "name": "stdout",
     "output_type": "stream",
     "text": [
      "Hello World\n",
      "140723861400120\n"
     ]
    },
    {
     "name": "stdin",
     "output_type": "stream",
     "text": [
      "Enter a number :  45\n"
     ]
    },
    {
     "name": "stdout",
     "output_type": "stream",
     "text": [
      "Inputed number is  45 is a <class 'int'>\n",
      "Number inputed is a Int?  True\n",
      "The adress of the variable inputed is :  140723861401400\n"
     ]
    }
   ],
   "source": [
    "print(\"Hello World\")\n",
    "# select lines + ctrl+/  make it a comment\n",
    "# single line comment\n",
    "# multipl line comment ''' or \"\"\"\n",
    "\"\"\"\n",
    "\n",
    "\n",
    "mulitiple line\n",
    "comment\n",
    "\n",
    "\"\"\"\n",
    "w = 5\n",
    "print(id(w))    # adress of w\n",
    "a = int(input(\"Enter a number : \"))\n",
    "print(\"Inputed number is \",a,\"is a\",type(a))\n",
    "print(\"Number inputed is a Int? \",isinstance(a,int))\n",
    "print(\"The adress of the variable inputed is : \",id(a))"
   ]
  },
  {
   "cell_type": "markdown",
   "id": "b2098eb2-8184-49ce-aa1f-4f54be6066db",
   "metadata": {},
   "source": [
    "# Keywords"
   ]
  },
  {
   "cell_type": "code",
   "execution_count": 1,
   "id": "1e8a96a0-aa75-4718-8708-dbb898e053e7",
   "metadata": {},
   "outputs": [
    {
     "name": "stdout",
     "output_type": "stream",
     "text": [
      "['False', 'None', 'True', 'and', 'as', 'assert', 'async', 'await', 'break', 'class', 'continue', 'def', 'del', 'elif', 'else', 'except', 'finally', 'for', 'from', 'global', 'if', 'import', 'in', 'is', 'lambda', 'nonlocal', 'not', 'or', 'pass', 'raise', 'return', 'try', 'while', 'with', 'yield']\n",
      "35\n"
     ]
    }
   ],
   "source": [
    "import keyword\n",
    "print(keyword.kwlist)\n",
    "print(len(keyword.kwlist))"
   ]
  },
  {
   "cell_type": "markdown",
   "id": "5ddad35f-6770-4317-8b0e-72b168f57269",
   "metadata": {},
   "source": [
    "# Multiple line statement"
   ]
  },
  {
   "cell_type": "code",
   "execution_count": 2,
   "id": "70cd743a-e454-4063-a522-3c525707e7cc",
   "metadata": {},
   "outputs": [
    {
     "data": {
      "text/plain": [
       "6317"
      ]
     },
     "execution_count": 2,
     "metadata": {},
     "output_type": "execute_result"
    }
   ],
   "source": [
    "a = 208 * 30 \\\n",
    "+ 23 + 1 \\\n",
    "+ 22 + 31\n",
    "a"
   ]
  },
  {
   "cell_type": "code",
   "execution_count": 3,
   "id": "f6dc1f2e-7ba3-4f58-a1d9-bda98f087ee0",
   "metadata": {},
   "outputs": [
    {
     "name": "stdout",
     "output_type": "stream",
     "text": [
      "10\n",
      "20\n",
      "39\n"
     ]
    }
   ],
   "source": [
    "k = 10\n",
    "l = 20\n",
    "m = 39\n",
    "print(k,l,m,sep=\"\\n\")   # click shift + tab for a description "
   ]
  },
  {
   "cell_type": "markdown",
   "id": "75282f00-21c7-480b-ac86-b2043e1e76f7",
   "metadata": {},
   "source": [
    "# Multiple assignment"
   ]
  },
  {
   "cell_type": "code",
   "execution_count": 5,
   "id": "cbb86924-0c1f-49f3-a9d8-ef911470bebc",
   "metadata": {},
   "outputs": [
    {
     "name": "stdout",
     "output_type": "stream",
     "text": [
      "Elephant 23 True 22.69\n",
      "<class 'str'>\n",
      "Printing veriable inside a sentance, Elephant like this.\n"
     ]
    }
   ],
   "source": [
    "a,b,c,d = \"Elephant\",23,True,22.69\n",
    "print(a,b,c,d)\n",
    "print(type(a))\n",
    "print(f\"Printing veriable inside a sentance, {a} like this.\")  # use f\" {}\" or f' {}' both same"
   ]
  },
  {
   "cell_type": "markdown",
   "id": "2d1e14bb-aae7-49ab-929d-821fd573736b",
   "metadata": {},
   "source": [
    "# Variables"
   ]
  },
  {
   "cell_type": "code",
   "execution_count": 7,
   "id": "8cfbf773-61a6-415c-8ec3-eae53e9deab0",
   "metadata": {},
   "outputs": [
    {
     "name": "stdout",
     "output_type": "stream",
     "text": [
      "<class 'str'>\n",
      "45\n",
      "\" Code \" is String? True\n"
     ]
    }
   ],
   "source": [
    "import sys\n",
    "val = \"Code\"\n",
    "print(type(val))\n",
    "print(sys.getsizeof(val))   \n",
    "print(\"\\\"\",val,\"\\\"\",\"is String?\",isinstance(val,str))"
   ]
  },
  {
   "cell_type": "markdown",
   "id": "21ef60a6-dafa-4d06-97a4-0a85a5a87953",
   "metadata": {},
   "source": [
    "## Data Types\n",
    ">- **int**     - Integer \n",
    ">- **float**    \n",
    ">- **bool**    - Boolean true false\n",
    ">- **complex** -a+bj  -> complex number same as a+bi (python use j for i)\n",
    ">- **str**     - String"
   ]
  },
  {
   "cell_type": "markdown",
   "id": "acea4f75-739b-4b49-81a4-9599f58c06e0",
   "metadata": {},
   "source": [
    "## Complex"
   ]
  },
  {
   "cell_type": "code",
   "execution_count": 4,
   "id": "379f074b-cfcc-4af9-9194-c1563d6de12a",
   "metadata": {},
   "outputs": [
    {
     "name": "stdout",
     "output_type": "stream",
     "text": [
      "<class 'complex'>\n"
     ]
    },
    {
     "data": {
      "text/plain": [
       "(9+30j)"
      ]
     },
     "execution_count": 4,
     "metadata": {},
     "output_type": "execute_result"
    }
   ],
   "source": [
    "c = 5+10j\n",
    "d = 4+20j\n",
    "print(type(c))\n",
    "c + d"
   ]
  },
  {
   "cell_type": "markdown",
   "id": "039f88dc-597c-4e5a-8755-2d0ed8de2ce1",
   "metadata": {},
   "source": [
    "## Boolean"
   ]
  },
  {
   "cell_type": "code",
   "execution_count": 8,
   "id": "8b313f96-0269-4a54-889e-517f3ba102f7",
   "metadata": {},
   "outputs": [
    {
     "name": "stdout",
     "output_type": "stream",
     "text": [
      "True\n",
      "False\n",
      "False\n",
      "True\n"
     ]
    }
   ],
   "source": [
    "print(bool(1))       # except 0 and 0.0 all values will give a \"False\"\n",
    "print(bool(0.0000))\n",
    "print(bool(\"\"))      # empty string is always \"false\" if it have atleast one or more char including a space will give \"true\" \n",
    "print(bool(\" \"))"
   ]
  },
  {
   "cell_type": "code",
   "execution_count": 9,
   "id": "480b8227-66de-457e-a473-0fc2e4d00679",
   "metadata": {},
   "outputs": [
    {
     "name": "stdout",
     "output_type": "stream",
     "text": [
      "10\n",
      "8.6\n",
      "True\n"
     ]
    }
   ],
   "source": [
    "print(4 + 5 + True + False)  # true = 1 and False  0\n",
    "print(4 + 4.6 + False)\n",
    "condition = 2<10\n",
    "print(condition)"
   ]
  },
  {
   "cell_type": "markdown",
   "id": "37aa53ae-7cf6-4ed5-89b1-c7626c22e326",
   "metadata": {},
   "source": [
    "# Type Casting"
   ]
  },
  {
   "cell_type": "code",
   "execution_count": 10,
   "id": "f721a88d-93ce-431e-a8fd-51a3e9f9b395",
   "metadata": {},
   "outputs": [
    {
     "name": "stdout",
     "output_type": "stream",
     "text": [
      "<class 'float'>\n",
      "9\n",
      "<class 'int'>\n"
     ]
    }
   ],
   "source": [
    "a = 9.7\n",
    "print(type(a))\n",
    "a = int(a)\n",
    "print(a)\n",
    "print(type(a))"
   ]
  },
  {
   "cell_type": "code",
   "execution_count": 11,
   "id": "acbcb9ef-f20c-49d5-969f-085990798d8e",
   "metadata": {},
   "outputs": [
    {
     "name": "stdout",
     "output_type": "stream",
     "text": [
      "7\n",
      "True\n",
      "7\n"
     ]
    }
   ],
   "source": [
    "a = 7\n",
    "print(a)\n",
    "print(bool(a)) \n",
    "print(str(a))"
   ]
  },
  {
   "cell_type": "code",
   "execution_count": 12,
   "id": "75e28fb6-3e2e-4ec0-8712-4dccc93240ce",
   "metadata": {},
   "outputs": [
    {
     "name": "stdout",
     "output_type": "stream",
     "text": [
      "0.0\n",
      "0\n",
      "False\n"
     ]
    }
   ],
   "source": [
    "b = False\n",
    "print(float(b))\n",
    "print(int(b))\n",
    "print(str(b))"
   ]
  },
  {
   "cell_type": "code",
   "execution_count": 13,
   "id": "e5751f33-2e2f-4902-9be9-acd314e4339b",
   "metadata": {},
   "outputs": [
    {
     "name": "stdout",
     "output_type": "stream",
     "text": [
      "True\n",
      "\n",
      "---------------------------------String to Boolean-------------------------------------\n",
      "False\n",
      "\n",
      "---------------------------------String to Float-------------------------------------\n",
      "2.7\n",
      "\n",
      "---------------------------------String to Integer/Float-------------------------------------\n",
      "2.0\n",
      "2\n"
     ]
    }
   ],
   "source": [
    "b =  \"One Piece\"\n",
    "print(bool(b))\n",
    "# print(float(b))   - not possible\n",
    "# print(int(b))     - not possible\n",
    "print(\"\\n---------------------------------String to Boolean-------------------------------------\")\n",
    "b = \"\"\n",
    "print(bool(b))\n",
    "print(\"\\n---------------------------------String to Float-------------------------------------\")\n",
    "b = '2.7'\n",
    "print(float(b))\n",
    "# print(int(\"2.7\")) - not possible\n",
    "print(\"\\n---------------------------------String to Integer/Float-------------------------------------\")\n",
    "b = \"2\"\n",
    "print(float(b))\n",
    "print(int(b))"
   ]
  },
  {
   "cell_type": "markdown",
   "id": "e83aefe9-5781-4c45-9a14-8f7e031fdcfc",
   "metadata": {},
   "source": [
    "# Membership Function"
   ]
  },
  {
   "cell_type": "code",
   "execution_count": 14,
   "id": "23347a6e-e598-457a-923c-98d7d89a4a56",
   "metadata": {},
   "outputs": [
    {
     "name": "stdout",
     "output_type": "stream",
     "text": [
      "True\n",
      "True\n"
     ]
    }
   ],
   "source": [
    "a = \"The weather is nice\"\n",
    "print(\"weather\" in a)\n",
    "print(\"Weather\" not in a)  # case sensitive "
   ]
  },
  {
   "cell_type": "markdown",
   "id": "dcf96db6-68fe-4e1c-8071-b3aed13c1fd1",
   "metadata": {},
   "source": [
    "# Arithmetic operations\n",
    "> - `+` : add two numbers\n",
    "> - `-` : substrate two numbers\n",
    "> - `*` : multiply two numbers\n",
    "> - `//` : Floor Division - returns the integer part of the division\n",
    "> - `/` : devide and float output\n",
    "> - `%` : Modulo - returns the remainder of a division\n",
    "> - `**` : Exponentiation - raises the left operand to the power of the right"
   ]
  },
  {
   "cell_type": "code",
   "execution_count": 43,
   "id": "e8d2c77c-2e6f-4abb-bf74-00baa6ceee6b",
   "metadata": {},
   "outputs": [
    {
     "name": "stdout",
     "output_type": "stream",
     "text": [
      "-3\n",
      "2.5\n",
      "2\n",
      "1\n"
     ]
    }
   ],
   "source": [
    "print(2 - 5)  # negative number as o/p possible\n",
    "print(5 / 2)\n",
    "print(5 // 2) # no float value as output (floor divisi%n)\n",
    "print(5 % 2)"
   ]
  },
  {
   "cell_type": "markdown",
   "id": "54c1c86f-2dd3-4ab9-8b8a-69d74d2f7a97",
   "metadata": {},
   "source": [
    "# Comparison (Relational) Operators:\n",
    "Used to compare two values and return a Boolean result (True or False).\n",
    "> - `==` (Equal to)\n",
    "> - `!=` (Not equal to)\n",
    "> - `>` (Greater than)\n",
    "> - `<` (Less than)\n",
    "> - `>=` (Greater than or equal to)\n",
    "> - `<=` (Less than or equal to)"
   ]
  },
  {
   "cell_type": "markdown",
   "id": "b3c44cdb-42cf-4ec1-a7d4-b00e81c2a2e1",
   "metadata": {},
   "source": [
    "# Assignment Operators:\n",
    "Used to assign values to variables.\n",
    "> - `=` (**Assignment**)\n",
    "> - `+=`, `-=`, `*=`, `/=`, `%=`, `**=`, `//=` (**Compound assignment operators**, e.g., x += 5 is equivalent to x = x + 5)"
   ]
  },
  {
   "cell_type": "markdown",
   "id": "6e862faa-69c5-4c0c-87fe-2e1705c8310e",
   "metadata": {},
   "source": [
    "# Logical Operator\n",
    "> - **AND** : output True if all the inputs are True.\n",
    "> - **OR** : output is True is any of the input is True.\n",
    "> - **NOT** : output is True if input is false and vice versa. "
   ]
  },
  {
   "cell_type": "markdown",
   "id": "d421f1bf-a30c-43bc-b6df-650bd8728b20",
   "metadata": {},
   "source": [
    "# Identity Operators:\n",
    "Used to compare the memory locations of two objects.\n",
    "> - `is` (Returns True if both variables point to the same object)\n",
    "> - `is not` (Returns True if both variables do not point to the same object)"
   ]
  },
  {
   "cell_type": "code",
   "execution_count": 46,
   "id": "a3dd6354-aa03-4246-9683-6a9a898e3213",
   "metadata": {},
   "outputs": [
    {
     "name": "stdout",
     "output_type": "stream",
     "text": [
      "15\n",
      "True\n",
      "False\n",
      "True\n"
     ]
    }
   ],
   "source": [
    "a = 10\n",
    "a += 5\n",
    "print(a)\n",
    "b = a\n",
    "c = 10\n",
    "print(a is b)\n",
    "print(a is not b)\n",
    "print(a is not c)"
   ]
  },
  {
   "cell_type": "markdown",
   "id": "e382261e-d536-4dfe-b9a4-adec74dd51f2",
   "metadata": {},
   "source": [
    "# Membership Operators:\n",
    "Used to test if a sequence contains a specific value.\n",
    "> - `in` (Returns True if a value is found in the sequence)\n",
    "> - `not in` (Returns True if a value is not found in the sequence)"
   ]
  },
  {
   "cell_type": "markdown",
   "id": "272463f2-537f-4436-be18-f3e47e3dcfd5",
   "metadata": {},
   "source": [
    "# String "
   ]
  },
  {
   "cell_type": "code",
   "execution_count": 7,
   "id": "0a117ea8-bb94-4f54-98f1-b51d886f6d51",
   "metadata": {},
   "outputs": [
    {
     "name": "stdout",
     "output_type": "stream",
     "text": [
      " Thomas Mathew\n",
      "h\te\n",
      " Thoma\n",
      " hmsMte\n",
      " \n",
      "True\n",
      "Thomas is a programmer at age of 22.\n",
      "6\n",
      "T h o m a s \n",
      "\tHi\n",
      "THOMAS\n",
      " ThomAs MAthew\n",
      " no name\n",
      "['no', 'name']\n",
      "no\n",
      "no name\n"
     ]
    }
   ],
   "source": [
    "# dir(str) - gives all the method for string\n",
    "fname=\"Thomas\"\n",
    "lname=\"Mathew\"\n",
    "fullname=\" \"+fname+\" \"+lname  # concatenation\n",
    "print(fullname)\n",
    "print(fullname[2],fullname[-2],sep=\"\\t\")\n",
    "print(fullname[0:6])      # slicing from 0 to 5\n",
    "print(fullname[0::2])     # slicing with step size 2\n",
    "print(fullname[0::-1])    # Empty string \n",
    "print(\"Thomas\" in fullname)\n",
    "age = 22\n",
    "print(\"{} is a programmer at age of {}.\".format(fname,age))    # formatting \n",
    "print(len(fname))\n",
    "for s in fname:\n",
    "    print(s,end=\" \")\n",
    "if \"Thomas\" in fullname:\n",
    "    print(\"\\n\\tHi\")\n",
    "# Upper() & lower() \n",
    "# capitalize() - only first letter of first word to capital\n",
    "# strip() removes white spaces before & anfer the text\n",
    "# sort() & sort(reverse=True)\n",
    "# all()- gives true if all elements are true\n",
    "# any() - gives true if any one element is true\n",
    "print(fname.upper())\n",
    "print(fullname.replace(\"a\",\"A\"))\n",
    "print(fullname.replace(\"Thomas Mathew\",\"no name\"))  # helps edit the data\n",
    "fullname = fullname.replace(\"Thomas Mathew\",\"no name\")\n",
    "print(fullname.split())\n",
    "y,z = fullname.split()\n",
    "print(y)\n",
    "print(fullname.strip())"
   ]
  },
  {
   "cell_type": "code",
   "execution_count": 14,
   "id": "bb52c7bf-3d8b-484f-8aef-dabfc970e502",
   "metadata": {},
   "outputs": [
    {
     "name": "stdout",
     "output_type": "stream",
     "text": [
      "Thomas Mathew\n",
      "wehtaM samohT\n",
      "Thomas Mathew ------------- Reversed in the previous line and now turned back\n",
      "\n",
      "('Natural Language Processing with python ', 'and', ' R and Java')\n",
      "8\n",
      "&&&&&&&&    ****Funny Statement*********     %&&&&&&\n",
      "****Funny Statement*********     %\n",
      "Funny Statement\n",
      "Natural Language Processing With Python And R And Java\n",
      "Natural language processing with python and r and java\n",
      "\n",
      "------------------------------- Sort ----------------------------------\n",
      "['asd', 'wefg', 'rf', 'tyui', 'zxcfgh']\n",
      "['asd', 'rf', 'tyui', 'wefg', 'zxcfgh']\n",
      "['zxcfgh', 'wefg', 'tyui', 'rf', 'asd']\n"
     ]
    }
   ],
   "source": [
    "fullname = \"Thomas Mathew\"\n",
    "print(fullname)\n",
    "fullname = \"\".join(reversed(fullname))\n",
    "print(fullname)\n",
    "print(fullname[::-1],\"------------- Reversed in the previous line and now turned back\\n\")\n",
    "par = \"Natural Language Processing with python and R and Java\"\n",
    "print(par.partition(\"and\"))       # Split the sentense at the first specified word\n",
    "print(par.count(\"a\"))\n",
    "a = \"             &&&&&&&&    ****Funny Statement*********     %&&&&&&     \"  \n",
    "print(a.strip())                  # Strip applications\n",
    "print(a.strip(\" &\"))\n",
    "print(a.strip(\" &*%\"))\n",
    "print(par.title())                # Every word first letter capital\n",
    "print(par.capitalize()) \n",
    "print(\"\\n------------------------------- Sort ----------------------------------\")\n",
    "l = [\"asd\",\"wefg\",\"rf\",\"tyui\",\"zxcfgh\"]\n",
    "print(l)\n",
    "l.sort()\n",
    "print(l)\n",
    "l.sort(reverse=True)\n",
    "print(l)\n",
    "print()"
   ]
  },
  {
   "cell_type": "markdown",
   "id": "c3d2c168-7807-430f-9ff8-00bc63fd58eb",
   "metadata": {},
   "source": [
    "# List\n",
    "> - Square Brackets []"
   ]
  },
  {
   "cell_type": "code",
   "execution_count": 6,
   "id": "5820c4cc-5362-40c9-a0c5-bb7b5aed5d82",
   "metadata": {},
   "outputs": [
    {
     "name": "stdout",
     "output_type": "stream",
     "text": [
      "job  1  2  3  hj  \n",
      "hj\n",
      "['job', 1, 2]\n",
      "['job', 1, 2, 3, 'hj']\n",
      "\n",
      "----------------------Insertion and Deletion----------------------------\n",
      "[2, 'job', 1, 2, 3, 'hj', 10, 6, 7]\n",
      "['job', 1, 2, 3, 10, 6]\n",
      "\n",
      "-------------------Printing Methods-------------------------------\n",
      "[6, 3, 1]\n",
      "[3, 10, 6]\n",
      "['job', 1, 2, 3, 10, 6]\n",
      "['job', 1, 6]\n",
      "\n",
      "-----------------Lenth and Nested List---------------------------------\n",
      "3\n",
      "[['job', 1, 6], ['job', 1, 6]]\n",
      "x[1][0] = job\n",
      "[True, 2, 'Three', 4.0]\n",
      "[True, 2, 'Three', 4.0, [5, 7, 8]]\n",
      "[True, 2, 'Three', 4.0, [7, 8]]\n",
      "\n",
      "--------------------List with Same Elements------------------------------\n",
      "[2, 2, 2, 2, 2]\n",
      "True\n",
      "\n",
      "----------------------Matrix ----------------------------\n",
      "4\n",
      "[[1, 9, 3, 4, 4], [2, 3, 4, 5, 6]]\n",
      "\n",
      "----------------------Operations on list----------------------------\n",
      "['job', 1, 6]\n",
      "1\n",
      "0\n",
      "[6, 1, 'job']\n",
      "[]\n"
     ]
    }
   ],
   "source": [
    "lists=[\"job\",1,2,3,\"hj\"]   # empty list -> l = []   or   l = list()\n",
    "for i in lists:\n",
    "    print(i,end=\"  \")\n",
    "print(\"\\n\"+lists[4])\n",
    "print(lists[0:3])\n",
    "print(lists)\n",
    "a = lists\n",
    "id(a) == id(lists)  # refer the same element,i.e, a and b will have same val no matter what chane is made\n",
    "print(\"\\n----------------------Insertion and Deletion----------------------------\")\n",
    "lists.append(10)    # add new element to the end\n",
    "lists.extend([6,7]) # add multiple elements\n",
    "lists.insert(0,2)   # insert 2 at loc 0\n",
    "print(lists) \n",
    "lists.remove(\"hj\")  # delete the element\n",
    "lists.pop(0)        # delete element at loc 0 or pop() - deletes the last element\n",
    "del lists[6]        # delete from loc 6 or \"del lists\" deletes the whole list\n",
    "print(lists)\n",
    "print(\"\\n-------------------Printing Methods-------------------------------\")\n",
    "print(lists[-1:-6:-2])\n",
    "print(lists[-3:])\n",
    "print(a)\n",
    "a[2:5] = []\n",
    "print(a)\n",
    "print(\"\\n-----------------Lenth and Nested List---------------------------------\")\n",
    "print(len(a))    # length \n",
    "x = [lists,a]    # nested list\n",
    "print(x)\n",
    "print(\"x[1][0] =\",x[1][0])\n",
    "l = [ True,2,\"Three\",4.0 ]\n",
    "print(l)\n",
    "l.append([5,7,8]) # nested list\n",
    "print(l)\n",
    "l[4].remove(5)    # del nested element\n",
    "print(l)\n",
    "print(\"\\n--------------------List with Same Elements------------------------------\")\n",
    "b = [2]*5\n",
    "print(b)\n",
    "print(2 in b)\n",
    "print(\"\\n----------------------Matrix ----------------------------\")\n",
    "matrix= [[1,9,3,4,4],[2,3,4,5,6]]\n",
    "print(matrix[1][2])\n",
    "print(matrix)\n",
    "print(\"\\n----------------------Operations on list----------------------------\")\n",
    "print(lists)\n",
    "print(lists.count(\"job\"))\n",
    "print(lists.index(\"job\"))\n",
    "a.reverse()\n",
    "print(a)\n",
    "# print(a.sort())  --  can't sort, different data types\n",
    "a.clear()\n",
    "print(a)\n",
    "del a"
   ]
  },
  {
   "cell_type": "code",
   "execution_count": null,
   "id": "7d8d8b25-64fb-4bf9-a9c2-c3047ad94886",
   "metadata": {},
   "outputs": [],
   "source": []
  },
  {
   "cell_type": "markdown",
   "id": "11ecdafa-d225-4f5d-8957-9a68ba4fe661",
   "metadata": {},
   "source": [
    "### Tuple  \n",
    "> - immutable\n",
    "> - Parenthesis\n",
    "> - itteration is faster compared to list"
   ]
  },
  {
   "cell_type": "code",
   "execution_count": 6,
   "id": "82747998-ea1b-4d95-8124-1ffdf9144532",
   "metadata": {},
   "outputs": [
    {
     "name": "stdout",
     "output_type": "stream",
     "text": [
      "(3, 4, 5, 'hj')\n",
      "((3, 4, 5, 'hj'), (1, 9, 4, 11))\n",
      "('Hellow',)\n",
      "2\n",
      "hj\n",
      "(3, 4, 5, 'hj', 'Hellow')\n",
      "('Hellow', 'Hellow', 'Hellow')\n",
      "True\n",
      "False\n",
      "(1, 2, 3, 4, 5, [6, 7, 8])\n",
      "(1, 2, 3, 4, 5, [6, 0, 8])\n",
      "(1, 2, 3, 4)\n",
      "8\n",
      "1\n",
      "2\n"
     ]
    }
   ],
   "source": [
    "t = 3,4,5,'hj'      # no bracket required or t = (3,4,5,'hj')\n",
    "print(t)\n",
    "u = t,(1,9,4,11)    # nested tuple\n",
    "print(u)\n",
    "tt = (\"Hellow\",)    # single element use a comma\n",
    "print(tt)\n",
    "print(len(u))\n",
    "print(t[-1])\n",
    "a = t + tt\n",
    "print(a)\n",
    "print(tt*3)\n",
    "print(3 in t)\n",
    "print(3 not in t)\n",
    "del a               # delete whole tuple\n",
    "d = (1,2,3,4,5,[6,7,8]) # possible to edit list inside a tuple\n",
    "print(d)\n",
    "d[5][1] = 0              \n",
    "print(d)\n",
    "print(d[0:4])\n",
    "print(d[5][2])\n",
    "print(d.count(4))\n",
    "print(d.index(3))"
   ]
  },
  {
   "cell_type": "markdown",
   "id": "9019236c-ca41-4ae4-a724-b933afb50825",
   "metadata": {},
   "source": [
    "# Set  \n",
    "> - mutable-initial elements cannot be changed but can add and delete elements\n",
    "> - no duplicate element\n",
    "> - no index (no order)\n",
    "> - Curly Brackets / Braces {}"
   ]
  },
  {
   "cell_type": "code",
   "execution_count": 27,
   "id": "b37683dc-f686-42b5-8834-46711e1c7132",
   "metadata": {},
   "outputs": [
    {
     "name": "stdout",
     "output_type": "stream",
     "text": [
      "set()\n",
      "<class 'set'>\n",
      "[1, 2, 3, 2, 4, 'hellow', 2]\n",
      "{1, 2, 3, 4, 'hellow'}\n",
      "{1, 2, 3, 4, 'hi', 6, 7, 8, 'hellow'}\n",
      "{4, 'hi', 6, 7, 8, 'hellow'}\n",
      "-----------------Union------------------\n",
      "s union a =  {'hi', 4, 3, 6, 7, 8, 5, 'hellow', 'abbc'}\n",
      "s union a union b =  {'hi', 4, 3, 6, 7, 8, 5, 9, 10, 'hellow', 'abbc'}\n",
      "-----------------intersection------------------\n",
      "s intersection a =  {8, 4, 6, 7}\n",
      "s intersection a intersection b =  {8, 7}\n",
      "------------------------------------------------\n",
      "s intersection (a union b) = {8, 4, 6, 7}\n",
      "a-b = {3, 4, 5, 6, 'abbc'}\n",
      "a-b = {3, 4, 5, 6, 'abbc'}\n",
      "set()\n"
     ]
    }
   ],
   "source": [
    "set1 = set()       # Empty set ; set1 = {} -> creates a dictonary\n",
    "print(set1)\n",
    "print(type(set1))\n",
    "l = [1,2,3,2,4,\"hellow\",2]\n",
    "print(l)\n",
    "s = set(l)                 # type casting and automatically remove the duplicate elements\n",
    "print(s)\n",
    "s.add(\"hi\")        # add element\n",
    "s.update({6,7,8})  # add multiple elements\n",
    "print(s)\n",
    "s.pop()            # deletes the first element in the printing order\n",
    "s.remove(2)        # remove 1 and \"error\" if not found\n",
    "s.discard(3)       # remove 2 and no error if not found\n",
    "print(s)\n",
    "a = {3,4,5,6,7,8,\"abbc\"}\n",
    "b = {7,8,9,10}\n",
    "# union\n",
    "print(\"-----------------Union------------------\")\n",
    "print(\"s union a = \",s.union(a))     # s.union(a,c) if three sets are there\n",
    "print(\"s union a union b = \",s | a | b)\n",
    "# intersection\n",
    "print(\"-----------------intersection------------------\")\n",
    "print(\"s intersection a = \",s & a)\n",
    "print(\"s intersection a intersection b = \",s.intersection(a,b))\n",
    "print(\"------------------------------------------------\")\n",
    "print(\"s intersection (a union b) =\", s & (a | b))\n",
    "print(\"a-b =\",a-b)\n",
    "print(\"a-b =\",a.difference(b))\n",
    "s.clear()          # Delete all elemnets\n",
    "print(s)  \n",
    "del s              # completely deleted"
   ]
  },
  {
   "cell_type": "markdown",
   "id": "b228ff44-c379-4bac-957e-66d16167eb67",
   "metadata": {},
   "source": [
    "# Dictionary\n",
    "> -  no duplicate\n",
    "> - other same as list\n",
    "> - Curly Brackets{}\n",
    "> - value can be same, but keys must be different"
   ]
  },
  {
   "cell_type": "code",
   "execution_count": 51,
   "id": "0a038b87-e660-4d07-9b37-a812b00e85b4",
   "metadata": {},
   "outputs": [
    {
     "name": "stdout",
     "output_type": "stream",
     "text": [
      "{'k1': 'val1', 'k2': 'val2', 'k3': 'val3', 'k4': 'val4'}\n",
      "val3\n",
      "k1:val1 k2:val2 k3:val3 k4:val4 \n",
      "\n",
      "Keys: dict_keys(['k1', 'k2', 'k3', 'k4'])\n",
      "Values: dict_values(['val1', 'val2', 'val3', 'val4'])\n",
      "Items: dict_items([('k1', 'val1'), ('k2', 'val2'), ('k3', 'val3'), ('k4', 'val4')])\n",
      "\n",
      "Membership of k1: True\n",
      "d[k1]= 5\n",
      "{'k1': 5, 'k2': 'val2', 'k3': 'val3', 'k4': 'val4', 5: True, 6: 'abc', 7: ['list1', 'list2', 'list3']}\n",
      "56\n",
      "{'k1': 5, 'k2': 'val2', 'k3': 'val3', 'k4': 'val4'}\n",
      "{}\n"
     ]
    }
   ],
   "source": [
    "d = {\"k1\":\"val1\",\"k2\":\"val2\",\"k3\":\"val3\",\"k4\":\"val4\",\"k4\":\"val4\"}\n",
    "print(d)\n",
    "print(d[\"k3\"])\n",
    "for key,value in d.items():\n",
    "    print(f\"{key}:{value}\",end=\" \")\n",
    "print()\n",
    "print(\"\\nKeys:\",d.keys())    # print keys only\n",
    "print(\"Values:\",d.values())  # print values only\n",
    "print(\"Items:\",d.items())   # print items only\n",
    "print(\"\\nMembership of k1:\",\"k1\" in d)\n",
    "d[\"k1\"] = 5\n",
    "print(\"d[k1]=\",d[\"k1\"])\n",
    "d.update({5:True,6:\"abc\"}) # add element and key | if key is already present it will update the value\n",
    "d.update({7:[\"list1\",\"list2\",\"list3\"]})\n",
    "print(d)\n",
    "d[7][0] = 56\n",
    "print(d[7][0])\n",
    "d.pop(5)           # delete the key and item associated \n",
    "d.popitem()        # delete last element \n",
    "del d[6]\n",
    "print(d)\n",
    "d.clear()\n",
    "print(d)\n",
    "del d"
   ]
  },
  {
   "cell_type": "markdown",
   "id": "627545fc-959f-457b-af4d-d327fdb43fc0",
   "metadata": {},
   "source": [
    "# Conditional statemnets\n",
    "> The tab after a conditional statement or loop known as **Indentation** "
   ]
  },
  {
   "cell_type": "code",
   "execution_count": 10,
   "id": "0e2aa316-77ff-4eb9-bec1-2fbeebbfd0c7",
   "metadata": {},
   "outputs": [
    {
     "name": "stdout",
     "output_type": "stream",
     "text": [
      "True 1\n",
      "True\n",
      "0 2 4 6 8 \n",
      "Loop ended\n"
     ]
    }
   ],
   "source": [
    "a=5\n",
    "b=6\n",
    "# if-elif\n",
    "if a==5 and b==6:             \n",
    "    print(\"True 1\")\n",
    "elif a==b or a>=b:                 \n",
    "    print(\"True 2\")\n",
    "else:               # elif can also be implemented without a else \n",
    "    print(\"False\")\n",
    "# not operation\n",
    "print(not(a>b))                 \n",
    "# for loop\n",
    "for i in range(0,10,2):\n",
    "    print(i,end=\" \")\n",
    "else:\n",
    "    print(\"\\nLoop ended\")         # for loop can have a else statement\n",
    "for i in range(10):\n",
    "    pass                          # If loop have no body using a pass can prevent any errors"
   ]
  },
  {
   "cell_type": "code",
   "execution_count": 9,
   "id": "3e94c7be-5e8a-473f-9e6c-6ef918bde51b",
   "metadata": {},
   "outputs": [
    {
     "name": "stdin",
     "output_type": "stream",
     "text": [
      "Enter the age : 25\n"
     ]
    },
    {
     "name": "stdout",
     "output_type": "stream",
     "text": [
      "Adult\n",
      "Out of \"if-else\" statement.\n"
     ]
    }
   ],
   "source": [
    "age = int(input(\"Enter the age :\")) # validation int()\n",
    "if age > 17 :\n",
    "    print(\"Adult\")\n",
    "else :\n",
    "    print(\"Not Adult\")\n",
    "print(\"Out of \\\"if-else\\\" statement.\")"
   ]
  },
  {
   "cell_type": "markdown",
   "id": "f9dbbad9-d840-4c80-9245-9d680b7004b3",
   "metadata": {},
   "source": [
    "# Match \n",
    "> __same as switch__"
   ]
  },
  {
   "cell_type": "code",
   "execution_count": 4,
   "id": "51ae1004-0f0f-43a1-82ba-1e92075e33e8",
   "metadata": {},
   "outputs": [
    {
     "name": "stdin",
     "output_type": "stream",
     "text": [
      "Enter a number :  2\n"
     ]
    },
    {
     "name": "stdout",
     "output_type": "stream",
     "text": [
      "Working Day\n"
     ]
    }
   ],
   "source": [
    "day = 8\n",
    "while day>7:\n",
    "    day = int(input(\"Enter a number : \"))\n",
    "    match day:\n",
    "        case 1:\n",
    "            print(\"Sunday\")\n",
    "        case 2 | 3 | 4 | 5 | 6:\n",
    "            print(\"Working Day\")\n",
    "        case 7:\n",
    "            print(\"Saturday\")\n",
    "        case _:\n",
    "            print(\"Please enter a valid number! (Between 1 to 7)\")\n"
   ]
  },
  {
   "cell_type": "markdown",
   "id": "559a5e75-6922-45c7-b666-71464fdb13ff",
   "metadata": {},
   "source": [
    "# Lambda Function\n",
    ">  Small anonymous function typically used for short, simple functions that are not reused elsewhere in your code."
   ]
  },
  {
   "cell_type": "code",
   "execution_count": 18,
   "id": "dd67ad04-0878-49d1-be68-67b76770404e",
   "metadata": {},
   "outputs": [
    {
     "name": "stdout",
     "output_type": "stream",
     "text": [
      "14\n",
      "15\n",
      "30\n"
     ]
    }
   ],
   "source": [
    "add = lambda x,y:x+y\n",
    "print(add(5,9))\n",
    "add10 = lambda a:a+10\n",
    "print(add10(5))\n",
    "# example -a function that triple any values\n",
    "def my_tri(n):\n",
    "    return lambda a: a*n\n",
    "num = my_tri(3)\n",
    "print(num(10))"
   ]
  },
  {
   "cell_type": "markdown",
   "id": "9ec1413e-af2e-4aa4-b85c-ddbdb52c8be7",
   "metadata": {},
   "source": [
    "# Filter function"
   ]
  },
  {
   "cell_type": "code",
   "execution_count": 20,
   "id": "fce7ad2c-fb6c-42bb-9469-63b9e6694e46",
   "metadata": {},
   "outputs": [
    {
     "name": "stdout",
     "output_type": "stream",
     "text": [
      "[2, 4, 6, 8]\n",
      "[1, 3, 5, 7, 9]\n"
     ]
    }
   ],
   "source": [
    "# filter even number\n",
    "seq = [1,2,3,4,5,6,7,8,9]\n",
    "result = filter(lambda x: x%2 == 0,seq)\n",
    "print(list(result))\n",
    "\n",
    "#filter odd number\n",
    "odd = filter(lambda a : a%2 != 0,seq)\n",
    "print(list(odd))"
   ]
  },
  {
   "cell_type": "markdown",
   "id": "f8e3c99c-5cd5-49e1-9124-d277480bca9e",
   "metadata": {},
   "source": [
    "# Map function"
   ]
  },
  {
   "cell_type": "code",
   "execution_count": 33,
   "id": "17c2d1fa-ab69-4bcd-bd6f-b0d311e1cbaa",
   "metadata": {},
   "outputs": [
    {
     "name": "stdout",
     "output_type": "stream",
     "text": [
      "[2, 4, 6, 8, 10, 12, 14, 16]\n",
      "[1, 4, 9, 16, 25, 36, 49, 64]\n",
      "[10, 10, 10, 10, 10]\n",
      "[['s', 'd', 'f', 'g', 'h'], ['g', 'h', 'j'], ['g', 'h', 'j', 'j', 'k']]\n"
     ]
    }
   ],
   "source": [
    "def add(n):\n",
    "    return n+n\n",
    "t = (1,2,3,4,5,6,7,8)\n",
    "add = map(add,t)\n",
    "print(list(add))\n",
    "\n",
    "square = map(lambda a: a*a,t)\n",
    "print(list(square))\n",
    "\n",
    "t1 = (1,2,3,4,5)\n",
    "t2 = (9,8,7,6,5)\n",
    "add = map(lambda x,y:x+y , t1, t2)\n",
    "print(list(add))\n",
    "\n",
    "# map can listify the list of strings individually\n",
    "s = [\"sdfgh\",\"ghj\",\"ghjjk\"]\n",
    "letter = list(map(list,s))\n",
    "print(letter)"
   ]
  },
  {
   "cell_type": "markdown",
   "id": "bacd7d7b-0b8a-4ced-8eb6-913467da03f6",
   "metadata": {},
   "source": [
    "# Reduce function"
   ]
  },
  {
   "cell_type": "code",
   "execution_count": 36,
   "id": "5cefcdf9-1477-4731-ac61-b94c0bf54c99",
   "metadata": {},
   "outputs": [
    {
     "name": "stdout",
     "output_type": "stream",
     "text": [
      "Sum of the list:  115\n",
      "Max of the list:  100\n"
     ]
    }
   ],
   "source": [
    "import functools\n",
    "lis = [1,2,3,4,5,100]\n",
    "print(\"Sum of the list: \",functools.reduce(lambda a,b: a+b, lis))\n",
    "\n",
    "print(\"Max of the list: \",functools.reduce(lambda a,b: a if a>b else b, lis))"
   ]
  },
  {
   "cell_type": "markdown",
   "id": "64c877f4-ccd2-4524-a330-ee5b89902b1a",
   "metadata": {},
   "source": [
    "# Break and Continue "
   ]
  },
  {
   "cell_type": "code",
   "execution_count": 20,
   "id": "11a0f4fa-ca16-48ed-8509-e86547fad014",
   "metadata": {},
   "outputs": [
    {
     "name": "stdout",
     "output_type": "stream",
     "text": [
      "10  9  8  7  6  \n",
      "\n",
      "10  9  8  7  6  4  3  2  1  0  \n",
      "Completed while loop with value of i as 0\n"
     ]
    }
   ],
   "source": [
    "i = 10\n",
    "while i >= 1:\n",
    "    if i == 5:\n",
    "        break       # end all loops it is inside of\n",
    "    else:\n",
    "        print(i,end=\"  \")\n",
    "    i -= 1\n",
    "i = 11\n",
    "print(\"\\n\")\n",
    "while i >= 1:\n",
    "    i -= 1\n",
    "    if i == 5:\n",
    "        continue   # end curent itteration and start the next one(skip one step)\n",
    "    else:\n",
    "        print(i,end=\"  \")\n",
    "else :             # while can have else as there is no do while in python\n",
    "    print(f\"\\nCompleted while loop with value of i as {i}\")"
   ]
  },
  {
   "cell_type": "markdown",
   "id": "7a9f0d01-4a11-4ab1-a1d2-5457b6df74a8",
   "metadata": {},
   "source": [
    "# Functions\n",
    "> - **Parameter** : variable listed inside the paratensis of the function.\n",
    "> - **Argument** :  value sent to the function when it is called.\n",
    "\n",
    "## Types of function:\n",
    "1. **Built in functions**\n",
    "2. **User defined funtion**\n",
    "3. **Anonymous function** : with no name, example- Lambda function\n",
    "\n",
    "## Docstring :-\n",
    "> - It tells what is the use of this function.\n",
    "> - Appear right after the definition of function, method, class or module.\n",
    "> - you call call the docstring by `function_name.__doc__`\n"
   ]
  },
  {
   "cell_type": "code",
   "execution_count": 14,
   "id": "359a5837-f860-4637-912a-90784f6ea03a",
   "metadata": {},
   "outputs": [
    {
     "name": "stdout",
     "output_type": "stream",
     "text": [
      "Thomas Mathew\n",
      " function for\n",
      "    printing the full name.\n",
      "    \n",
      "21\n"
     ]
    }
   ],
   "source": [
    "def name(fname,lname):\n",
    "    \"\"\" function for\n",
    "    printing the full name.\n",
    "    \"\"\"\n",
    "    fullname=fname + \" \" + lname\n",
    "    return fullname\n",
    "fullname = name(\"Thomas\",\"Mathew\")\n",
    "print(fullname)\n",
    "print(name.__doc__)  # calling the docstring of function name\n",
    "def rec(a):                   # recursion :- function that calls itself\n",
    "    if a>0:\n",
    "        res = a + rec(a-1)\n",
    "        # print(res)\n",
    "    else:\n",
    "        res = 0\n",
    "    return(res)\n",
    "print(rec(6))"
   ]
  },
  {
   "cell_type": "markdown",
   "id": "a2adcec6-2048-451e-909d-acdf27168843",
   "metadata": {},
   "source": [
    "## Arbitary Arguments, *args"
   ]
  },
  {
   "cell_type": "code",
   "execution_count": 5,
   "id": "588d69e5-23b0-41b3-a61c-c7a1fdaf98d0",
   "metadata": {},
   "outputs": [
    {
     "name": "stdout",
     "output_type": "stream",
     "text": [
      "4\n",
      "<class 'tuple'>\n",
      "Selected Vavva\n"
     ]
    }
   ],
   "source": [
    "def selection(*kid): # accept arguments as a tuple\n",
    "    print(len(kid))\n",
    "    print(type(kid))\n",
    "    print(\"Selected\",kid[2])\n",
    "selection(\"Aju\",\"Appu\",\"Vavva\",\"Kunj\")"
   ]
  },
  {
   "cell_type": "markdown",
   "id": "80a37398-e41a-4f01-8ae8-5268a1bc6c0a",
   "metadata": {},
   "source": [
    "## Keyword Arguments\n",
    ">send arguments with the key = value syntax."
   ]
  },
  {
   "cell_type": "code",
   "execution_count": 1,
   "id": "1349ce35-362a-4df3-aed9-64b5e3ceeeaa",
   "metadata": {},
   "outputs": [
    {
     "name": "stdout",
     "output_type": "stream",
     "text": [
      "3\n",
      "<class 'dict'>\n",
      "2\n"
     ]
    }
   ],
   "source": [
    "def s(a1,a2,a3):\n",
    "    print(a3)\n",
    "s(a3 = 3,a2 = 2,a1 = 1)\n",
    "def ss(**a):       # can give Arbitrary Keyword Arguments, **kwargs  - stores as a dictionary\n",
    "    print(type(a))\n",
    "    print(a['a2'])\n",
    "ss(a1 = 1,a2 = 2,a3 = 3)\n"
   ]
  },
  {
   "cell_type": "markdown",
   "id": "a09a91da-8851-4b63-9252-c00b8a049e8b",
   "metadata": {},
   "source": [
    "## Decorator function\n",
    "> - A decorator function in Python is a powerful tool that allows you to modify or extend the behavior of another function without changing its actual code.\n",
    "> -  It’s commonly used for logging, timing functions, access control, and more."
   ]
  },
  {
   "cell_type": "code",
   "execution_count": 5,
   "id": "81850502-d43f-4736-9acf-c50a3c0968b8",
   "metadata": {},
   "outputs": [
    {
     "name": "stdout",
     "output_type": "stream",
     "text": [
      "Before Fuction\n",
      "Hellow\n",
      "After Function\n"
     ]
    }
   ],
   "source": [
    "def my_decorator(func):\n",
    "    def wrapper():\n",
    "        print(\"Before Fuction\")\n",
    "        func()\n",
    "        print(\"After Function\")\n",
    "    return wrapper\n",
    "\n",
    "@my_decorator\n",
    "def say_hellow():  # actual function\n",
    "    print(\"Hellow\")\n",
    "\n",
    "say_hellow()     "
   ]
  },
  {
   "cell_type": "code",
   "execution_count": 8,
   "id": "48920c96-d14c-4925-a922-5e30784a3e50",
   "metadata": {},
   "outputs": [
    {
     "name": "stdout",
     "output_type": "stream",
     "text": [
      "Before function\n",
      "Hello, Thomas\n",
      "After function\n"
     ]
    }
   ],
   "source": [
    "# decorator with arguments:\n",
    "def my_decorator(func):\n",
    "    def wrapper(*args, **kwargs):\n",
    "        print(\"Before function\")\n",
    "        result = func(*args, **kwargs)\n",
    "        print(\"After function\")\n",
    "        return result\n",
    "    return wrapper\n",
    "\n",
    "@my_decorator\n",
    "def name(name):\n",
    "    print(f\"Hello, {name}\")\n",
    "\n",
    "name(\"Thomas\")"
   ]
  },
  {
   "cell_type": "markdown",
   "id": "439647b0-7ce1-4773-a9ba-abdf2da13b75",
   "metadata": {},
   "source": [
    "## Other function types"
   ]
  },
  {
   "cell_type": "code",
   "execution_count": 23,
   "id": "3934dee9-ea32-47a6-8212-b7904ad4a0b4",
   "metadata": {},
   "outputs": [
    {
     "name": "stdout",
     "output_type": "stream",
     "text": [
      "5\n",
      "23\n",
      "123 344 456 678 890 "
     ]
    }
   ],
   "source": [
    "def s(a = \"23\"):    # default value will be taken if argument is empty\n",
    "    print(a)\n",
    "s(5)\n",
    "s() \n",
    "def a(b):           # list as parameters\n",
    "    for i in b:\n",
    "        print(i,end=\" \")\n",
    "c = [123,344,456,678,890]\n",
    "a(c)"
   ]
  },
  {
   "cell_type": "markdown",
   "id": "920600c5-36fe-4276-829f-71ec2e05bbb9",
   "metadata": {},
   "source": [
    "# Python Scope\n",
    "## Local Scope\n",
    "> A variable created inside a function belongs to the local scope of that function, and can only be used inside that function.\n",
    "## Global Scope\n",
    "> A variable created in the main body of the Python code is a global variable and belongs to the global scope.\n",
    "> Global variables are available from within any scope, global and local.\n",
    "## Global Keyword\n",
    "> - If you need to create a global variable, but are stuck in the local scope, you can use the **global** keyword.\n",
    "> - The global keyword makes the variable global.\n",
    "> - Use the global keyword if you want to make a change to a global variable inside a function.\n",
    "## Nonlocal Keyword\n",
    "> - The **nonlocal** keyword is used to work with variables inside nested functions.\n",
    "> - The nonlocal keyword makes the variable belong to the outer function."
   ]
  },
  {
   "cell_type": "code",
   "execution_count": 12,
   "id": "d9d0afd3-78ba-4df1-a8ef-f77da5d22cc5",
   "metadata": {},
   "outputs": [
    {
     "name": "stdout",
     "output_type": "stream",
     "text": [
      "500\n",
      "300\n",
      "300\n"
     ]
    }
   ],
   "source": [
    "# Global\n",
    "x = 500\n",
    "print(x)\n",
    "def fun():\n",
    "    global x\n",
    "    x = 300\n",
    "    print(x)\n",
    "fun()\n",
    "print(x)"
   ]
  },
  {
   "cell_type": "code",
   "execution_count": 14,
   "id": "81e6d8e9-8d08-445b-8f5c-38d908eec004",
   "metadata": {},
   "outputs": [
    {
     "name": "stdout",
     "output_type": "stream",
     "text": [
      "Hello\n",
      "Hi\n",
      "Hi\n"
     ]
    }
   ],
   "source": [
    "# nonlocal\n",
    "def fun():\n",
    "    x = \"Hello\"\n",
    "    print(x)\n",
    "    def fun1():\n",
    "        nonlocal x\n",
    "        x = \"Hi\"\n",
    "        print(x)\n",
    "    fun1()\n",
    "    return x\n",
    "print(fun())"
   ]
  },
  {
   "cell_type": "markdown",
   "id": "59ca205f-8610-4c65-8db8-4be805c3bdb9",
   "metadata": {},
   "source": [
    "# Python Classes and Objects\n",
    "\n",
    "**Class** \n",
    ">Blueprint or template for creating an object.  \n",
    ">- Attributes (data)  \n",
    ">- Methods (functions that act on the data)\n",
    "\n",
    "**Object**  \n",
    ">An instance of a class. It holds actual data and can use the class methods."
   ]
  },
  {
   "cell_type": "markdown",
   "id": "86b46225-ed3a-432d-b14b-a1c60c5c49f9",
   "metadata": {},
   "source": [
    "## `__init__()` - Constructor \n",
    "> -  function to assign values to object properties, or other operations that are necessary to do when the object is being created.\n",
    "> -  executed when the class is being initiated.\n",
    "\n",
    "\n",
    "**Self Parameter**\n",
    "> -  The self parameter is a reference to the current instance of the class, and is used to access variables that belong to the class.\n",
    "> -  It does not have to be named self, you can call it whatever you like, but it has to be the first parameter of any function in the class"
   ]
  },
  {
   "cell_type": "code",
   "execution_count": 21,
   "id": "ef02d572-a064-4f30-b807-b365b2ca7f45",
   "metadata": {},
   "outputs": [
    {
     "name": "stdout",
     "output_type": "stream",
     "text": [
      "This is a Motorola phone.\n",
      "This is a Motorola phone.\n"
     ]
    }
   ],
   "source": [
    "class Phone():\n",
    "    def motorola(self):  # method\n",
    "        print(\"This is a Motorola phone.\")\n",
    "\n",
    "moto = Phone()\n",
    "Phone.motorola(moto)  # method 1 of calling class method \n",
    "moto.motorola()       # method 2 - standard way"
   ]
  },
  {
   "cell_type": "code",
   "execution_count": 22,
   "id": "21476360-c095-48ea-8613-a18f989b115a",
   "metadata": {},
   "outputs": [
    {
     "name": "stdout",
     "output_type": "stream",
     "text": [
      "Same\n"
     ]
    }
   ],
   "source": [
    "class Phone():\n",
    "    def __init__(self):\n",
    "        self.processor = \"snapdragon\"\n",
    "        self.ram = 16\n",
    "    def compare(self,obj2):\n",
    "        if (self.processor == obj2.processor) & (self.ram == obj2.ram):\n",
    "            print(\"Same\")\n",
    "        else:\n",
    "            print(\"Not Same\")\n",
    "phone1 = Phone()\n",
    "phone2 = Phone()\n",
    "phone1.compare(phone2)"
   ]
  },
  {
   "cell_type": "code",
   "execution_count": 56,
   "id": "04eca2fb-ba1b-49c3-a6de-69fde99b8c2f",
   "metadata": {},
   "outputs": [
    {
     "name": "stdout",
     "output_type": "stream",
     "text": [
      "Thomas\n",
      "Male\n",
      "21\n",
      "3\n",
      "4\n",
      "New name : Zoro\n",
      "<__main__.human object at 0x000001DFB345A570>\n"
     ]
    }
   ],
   "source": [
    "class human:\n",
    "    legs = 2     # class variable or static variable\n",
    "    def __init__(self, name, sex, age):\n",
    "        self.name = name            # attributes - name, sex, age\n",
    "        self.gender = sex           # no need for same name\n",
    "        self.age = age              # instance variable\n",
    "        \n",
    "person = human(\"Thomas\",\"Male\",21)\n",
    "person2 = human(\"name\",\"gender\",21)\n",
    "print(person.name)\n",
    "print(person.gender)\n",
    "print(person.age)\n",
    "person.legs = 3  # changes value for this object only\n",
    "print(person.legs)\n",
    "\n",
    "human.legs = 4  # changes the value for both\n",
    "print(person2.legs)\n",
    "person.name = \"Zoro\"  # modify object properties\n",
    "print(\"New name :\",person.name)\n",
    "\n",
    "print(person)         # can't print this way\n",
    "class mmm:\n",
    "    pass              # pass the class, no error even tho no body for class"
   ]
  },
  {
   "cell_type": "code",
   "execution_count": 30,
   "id": "eb3212d2-2c08-4fee-97c9-edd012df02e3",
   "metadata": {},
   "outputs": [
    {
     "name": "stdout",
     "output_type": "stream",
     "text": [
      "Thomas is a Male, 25 year's old.\n"
     ]
    }
   ],
   "source": [
    "class human:\n",
    "    def __init__(self, name, sex, age):\n",
    "        self.name = name\n",
    "        self.sex = sex\n",
    "        self.age = age\n",
    "    def __str__(self):             # function defines what to print when the object is printed\n",
    "        return f\"{self.name} is a {self.sex}, {self.age} year's old.\"     \n",
    "p1 = human(\"Thomas\",\"Male\",25)\n",
    "print(p1)"
   ]
  },
  {
   "cell_type": "markdown",
   "id": "4b9b50b2-22e5-4ab5-84e2-c1a3a98313ab",
   "metadata": {},
   "source": [
    "## Object Methods\n",
    "> - Can access or modify object state."
   ]
  },
  {
   "cell_type": "code",
   "execution_count": 39,
   "id": "6c72d8cc-4e92-4b6b-8cfa-60d4704be0a2",
   "metadata": {},
   "outputs": [
    {
     "name": "stdout",
     "output_type": "stream",
     "text": [
      "Zoro is inside the object function\n"
     ]
    }
   ],
   "source": [
    "class hum:\n",
    "    def __init__(per, name, age):     # self or any name preffered \n",
    "        per.name = name\n",
    "        per.age = age\n",
    "    def func(per):\n",
    "        print(f\"{per.name} is inside the object function\")\n",
    "p1 = hum(\"Zoro\",25)\n",
    "p1.func()\n",
    "del p1.name    # delete object property\n",
    "del p1         # delete object"
   ]
  },
  {
   "cell_type": "markdown",
   "id": "11e5b3ac-e816-41fd-b405-8c8bd60f6f68",
   "metadata": {},
   "source": [
    "## Class Method\n",
    "> - Can access/modify class-level data, not instance data."
   ]
  },
  {
   "cell_type": "code",
   "execution_count": 62,
   "id": "62207d8f-df2f-4174-955b-10f34f6cbd63",
   "metadata": {},
   "outputs": [
    {
     "name": "stdout",
     "output_type": "stream",
     "text": [
      "25\n",
      "29\n"
     ]
    }
   ],
   "source": [
    "class hum:\n",
    "    count = 25     # class level data\n",
    "    \n",
    "    @classmethod   # decorator\n",
    "    def get(cls):     # getter : only get a value \n",
    "        return cls.count\n",
    "\n",
    "    @classmethod   \n",
    "    def set(cls, a):  # setter : only set a value, no return \n",
    "        cls.count = a\n",
    "     \n",
    "print(hum.count)\n",
    "hum.set(29)\n",
    "print(hum.get())"
   ]
  },
  {
   "cell_type": "markdown",
   "id": "958b56c5-5997-4303-95d4-aad3dd55dd65",
   "metadata": {},
   "source": [
    "## Static Methods\n",
    "> - Behave like regular functions inside a class.\n",
    "> - Don’t take self or cls."
   ]
  },
  {
   "cell_type": "code",
   "execution_count": 42,
   "id": "fe47103f-1f19-4355-8ba2-c7705e69ea9c",
   "metadata": {},
   "outputs": [
    {
     "name": "stdout",
     "output_type": "stream",
     "text": [
      "75\n"
     ]
    }
   ],
   "source": [
    "class hum:\n",
    "    @staticmethod\n",
    "    def add(a, b):\n",
    "        return a + b\n",
    "\n",
    "print(hum.add(35,40))"
   ]
  },
  {
   "cell_type": "markdown",
   "id": "dffe108b-494c-45b9-b0dd-3416ede9e598",
   "metadata": {},
   "source": [
    "## Class inside a class"
   ]
  },
  {
   "cell_type": "code",
   "execution_count": 77,
   "id": "f8fa1bfe-072b-463d-8958-25461cf9ad50",
   "metadata": {},
   "outputs": [
    {
     "name": "stdout",
     "output_type": "stream",
     "text": [
      "Thomas 21\n",
      "School 60\n",
      "School1 64\n",
      "School2 52\n"
     ]
    }
   ],
   "source": [
    "class human:\n",
    "    def __init__(self,name,age,school,rollno):\n",
    "        self.name = name\n",
    "        self.age = age\n",
    "        self.student = self.student(school,rollno)\n",
    "    def show(self):\n",
    "        print(self.name,self.age)\n",
    "\n",
    "    class student:\n",
    "        def __init__(self,school,rollno):\n",
    "            self.school = school\n",
    "            self.rollno = rollno\n",
    "        def __str__(self):\n",
    "             return f\"{self.school} {self.rollno}\"\n",
    "\n",
    "p = human(\"Thomas\",21,\"School\",60) \n",
    "# Display name and age\n",
    "p.show()\n",
    "# Display the student object (which is inside human)\n",
    "print(p.student)\n",
    "# Create standalone student objects\n",
    "s = human.student(\"School1\",64)\n",
    "s2 = human.student(\"School2\",52)\n",
    "print(s)\n",
    "print(s2)"
   ]
  },
  {
   "cell_type": "markdown",
   "id": "d5221177-36f0-40a0-a7dc-e403729af864",
   "metadata": {},
   "source": [
    "# Inheritance \n",
    "Types:\n",
    "> - `Single Level Inheritence`\n",
    "> - `Multiple Level Inheritence`\n",
    "> - `Multiple Inheritence` : one child, multiple parent\n",
    "> - `Hierarchical Inheritance` : many child and one parent\n",
    "> - `Hybrid Inheritence` :combination of 2 or more types of inheritance "
   ]
  },
  {
   "cell_type": "code",
   "execution_count": 78,
   "id": "4e680def-01f1-4262-a8b7-2a35fceab74e",
   "metadata": {},
   "outputs": [
    {
     "name": "stdout",
     "output_type": "stream",
     "text": [
      "Freddy Mercury\n"
     ]
    }
   ],
   "source": [
    "class human:                        # Super class or Parent class\n",
    "    def __init__(self, fname, lname):\n",
    "        self.fname = fname\n",
    "        self.lname = lname\n",
    "    def print_n(self):\n",
    "        print(self.fname,self.lname)\n",
    "\n",
    "class student(human):               # child class or subclass\n",
    "    pass\n",
    "p1 = student(\"Freddy\",\"Mercury\")\n",
    "p1.print_n()"
   ]
  },
  {
   "cell_type": "code",
   "execution_count": 1,
   "id": "6777f7b1-377d-41da-b95e-4cc7c56db414",
   "metadata": {},
   "outputs": [
    {
     "name": "stdout",
     "output_type": "stream",
     "text": [
      "Freddy Mercury Cbse\n"
     ]
    }
   ],
   "source": [
    "class human:\n",
    "    def __init__(self, fname, lname):\n",
    "        self.fname = fname\n",
    "        self.lname = lname\n",
    "    def print_n(self):\n",
    "        print(self.fname,self.lname)\n",
    "\n",
    "class student(human):                     \n",
    "    def __init__(self, fname, lname, school):  # child __init__() overides the parent function\n",
    "        self.fname = fname\n",
    "        self.lname = lname\n",
    "        self.school = school\n",
    "    def print_n(self):\n",
    "        print(self.fname,self.lname, self.school)\n",
    "p1 = student(\"Freddy\",\"Mercury\",\"Cbse\")\n",
    "p1.print_n()"
   ]
  },
  {
   "cell_type": "markdown",
   "id": "063772df-720c-4009-a330-6aa17b215428",
   "metadata": {},
   "source": [
    "## Super function"
   ]
  },
  {
   "cell_type": "code",
   "execution_count": 58,
   "id": "b2a94484-a678-4431-a612-1f09a78d072b",
   "metadata": {},
   "outputs": [
    {
     "name": "stdout",
     "output_type": "stream",
     "text": [
      "Freddy Mercury is studying in Cbse\n"
     ]
    }
   ],
   "source": [
    "class human:\n",
    "    def __init__(self, fname, lname):\n",
    "        self.fname = fname\n",
    "        self.lname = lname\n",
    "    def printn(self):\n",
    "        print(self.fname,self.lname)\n",
    "class student(human):                     \n",
    "    def __init__(self, fname, lname, school): \n",
    "        super().__init__(fname,lname)             # Call the parent class constructor\n",
    "        self.school = school\n",
    "    def pri(self):\n",
    "        print(self.fname,self.lname,\"is studying in\",self.school)\n",
    "        \n",
    "p1 = student(\"Freddy\",\"Mercury\",\"Cbse\")\n",
    "p1.pri()"
   ]
  },
  {
   "cell_type": "markdown",
   "id": "7654a780-1f6b-4b6d-bd8f-3a899d579e7d",
   "metadata": {},
   "source": [
    "### Multiple level inheritence"
   ]
  },
  {
   "cell_type": "code",
   "execution_count": 83,
   "id": "e5e9ba86-8581-4845-9beb-a65ba3552c88",
   "metadata": {},
   "outputs": [
    {
     "name": "stdout",
     "output_type": "stream",
     "text": [
      "f1\n",
      "f3\n",
      "f1\n",
      "f3\n",
      "f4\n"
     ]
    }
   ],
   "source": [
    "class A:\n",
    "    def f1(self):\n",
    "        print(\"f1\")\n",
    "    def f2(self):\n",
    "        print(\"f2\")\n",
    "\n",
    "class B(A):          # B inheritence from A\n",
    "    def f3(self):\n",
    "        print(\"f3\")\n",
    "\n",
    "class C(B):         # C inheritence from B\n",
    "    def f4(self):\n",
    "        print(\"f4\")\n",
    "\n",
    "b1 = B()\n",
    "b1.f1()\n",
    "b1.f3()\n",
    "c1 = C()\n",
    "c1.f1()\n",
    "c1.f3()\n",
    "c1.f4()"
   ]
  },
  {
   "cell_type": "markdown",
   "id": "9d5ceb65-a2cc-4b0e-b943-2bf6ffbdcde4",
   "metadata": {},
   "source": [
    "### Multiple Inheritence\n",
    "> - MRO (Method Resolution Order) is used in here.\n",
    "> - if C inheritence a method with same name from `A` and `B`, then the class inside the left side of the parantheisi will be selected, e.g, `class C(A,B) `- here `A` will be selected.\n",
    "> - **`Diamond problem`** is a well known problem, here in a hybrid inheritance, one parent and 2 childs are there child one and child 2 and finaly a child 3 inheriteace from child 2 and child 3. Forming a diamond shape and here MRO is used to find whose methods child will inherit.  "
   ]
  },
  {
   "cell_type": "code",
   "execution_count": 85,
   "id": "a4e400df-a8d3-4300-88ea-951c96c0622a",
   "metadata": {},
   "outputs": [
    {
     "name": "stdout",
     "output_type": "stream",
     "text": [
      "A\n",
      "C\n",
      "f1\n",
      "f3\n",
      "f4\n"
     ]
    }
   ],
   "source": [
    "class A:\n",
    "    def __init__(self):\n",
    "        print(\"A\")\n",
    "    def f1(self):\n",
    "        print(\"f1\")\n",
    "    def f2(self):\n",
    "        print(\"f2\")\n",
    "\n",
    "class B:\n",
    "    def __init__(self):\n",
    "        print(\"B\")\n",
    "    def f3(self):\n",
    "        print(\"f3\")\n",
    "\n",
    "class C(A,B):   # C inheritence from A and B\n",
    "    def __init__(self):\n",
    "        super().__init__()   # By MRO, A will be selected\n",
    "        print(\"C\")\n",
    "    def f4(self):\n",
    "        print(\"f4\")\n",
    "c1 = C()\n",
    "c1.f1()\n",
    "c1.f3()\n",
    "c1.f4()"
   ]
  },
  {
   "cell_type": "markdown",
   "id": "ab605753-3dca-4a2d-bda4-bd9ad8ef2e25",
   "metadata": {},
   "source": [
    "# Iteratos\n",
    "> - The `__iter__()` method acts similarly; you can perform operations (like initialization), but it must always return the iterator object itself.\n",
    "\n",
    "> - The `__next__()` method also allows you to perform operations and must return the next item in the sequence.\n"
   ]
  },
  {
   "cell_type": "code",
   "execution_count": 9,
   "id": "a1c92f30-c81a-4bc9-846e-393e42a50d01",
   "metadata": {},
   "outputs": [
    {
     "name": "stdout",
     "output_type": "stream",
     "text": [
      "Apple\n",
      "Orange\n",
      "Banana \n",
      "\n",
      "Apple\n",
      "Orange\n",
      "Banana\n",
      "a\n",
      "b\n",
      "c\n",
      "d\n"
     ]
    }
   ],
   "source": [
    "l = [\"Apple\",\"Orange\",\"Banana\"]\n",
    "it = iter(l)    # Built-in Iterator\n",
    "print(next(it))\n",
    "print(next(it))\n",
    "print(next(it),\"\\n\")\n",
    "\n",
    "for i in l:    # Python handles the iterator automatically\n",
    "    print(i)\n",
    "a = \"abcd\"\n",
    "b = iter(a)\n",
    "print(next(b))\n",
    "print(next(b))\n",
    "print(next(b))\n",
    "print(next(b))"
   ]
  },
  {
   "cell_type": "code",
   "execution_count": 79,
   "id": "2b564ba9-3980-4a85-8c47-b81eec791a90",
   "metadata": {},
   "outputs": [
    {
     "name": "stdout",
     "output_type": "stream",
     "text": [
      "0 1 2 3 4 5 \n",
      "0 1 2 3 4 5 6 "
     ]
    }
   ],
   "source": [
    "class number:\n",
    "    def __init__(self, limit):\n",
    "        self.limit = limit\n",
    "    def __iter__(self):\n",
    "        self.count = -1  # can be also given in the init function\n",
    "        return self\n",
    "    def __next__(self):\n",
    "        if self.count < self.limit:\n",
    "            self.count +=1\n",
    "            return self.count\n",
    "        else :\n",
    "            raise StopIteration        # raise error\n",
    "c = number(5)\n",
    "for num in c:\n",
    "    print(num,end = \" \")\n",
    "print()\n",
    "myc = number(6)\n",
    "myiter = iter(myc)\n",
    "for i in myiter:\n",
    "    print(i,end=\" \")"
   ]
  },
  {
   "cell_type": "markdown",
   "id": "65d9386f-2bd4-47aa-a10f-78d7e5e8bc9d",
   "metadata": {},
   "source": [
    "# Polymorphism\n",
    "> - In programming it refers to methods/functions/operators with the same name that can be executed on many objects or classes.\n",
    "> - Example: **len()** - return length of string, number of elements in tuple and no of key-value pairs in dictionary. "
   ]
  },
  {
   "cell_type": "code",
   "execution_count": 87,
   "id": "b3030a9b-2948-439a-a175-43d2e01f3340",
   "metadata": {},
   "outputs": [
    {
     "name": "stdout",
     "output_type": "stream",
     "text": [
      "Drive\n",
      "Sail\n",
      "Fly\n"
     ]
    }
   ],
   "source": [
    "class car:\n",
    "    def __init__(self, name, brand):\n",
    "        self.name = name\n",
    "        self.brand = brand\n",
    "    def move(self):\n",
    "        print(\"Drive\")\n",
    "class boat:\n",
    "    def __init__(self,name,brand):\n",
    "        self.name = name\n",
    "        self.brand = brand\n",
    "    def move(self):\n",
    "        print(\"Sail\")\n",
    "class plane:\n",
    "    def __init__(self,name,brand):\n",
    "        self.name = name\n",
    "        self.brand = brand\n",
    "    def move(self):\n",
    "        print(\"Fly\")\n",
    "\n",
    "car1 = car(\"Aulto\",\"Suzuki\")\n",
    "boat1 = boat(\"Ibiza\", \"Touring 20\") \n",
    "plane1 = plane(\"Boeing\", \"747\")  \n",
    "for i in (car1,boat1,plane1):\n",
    "    i.move()"
   ]
  },
  {
   "cell_type": "markdown",
   "id": "f6e3fb08-157a-4edf-8c91-8793f6c4ec82",
   "metadata": {},
   "source": [
    "## Polymorphism in Inheritance \n"
   ]
  },
  {
   "cell_type": "code",
   "execution_count": 91,
   "id": "5eabd45f-9738-45e5-9714-43c25866040e",
   "metadata": {},
   "outputs": [
    {
     "name": "stdout",
     "output_type": "stream",
     "text": [
      "Aulto - Suzuki\n",
      "Drive\n",
      "Ibiza - Touring 20\n",
      "Sail\n",
      "Boeing - 747\n",
      "Fly\n"
     ]
    }
   ],
   "source": [
    "class transport:                      # Parent class\n",
    "    def __init__(self, name, brand):\n",
    "        self.name = name\n",
    "        self.brand = brand\n",
    "    def move(self):\n",
    "        print(\"Drive\")\n",
    "class car(transport):                 # Child class 1\n",
    "    pass\n",
    "class boat(transport):                # Child class 2\n",
    "    def move(self):\n",
    "        print(\"Sail\")\n",
    "class plane(transport):               # Child class 3\n",
    "    def move(self):\n",
    "        print(\"Fly\")\n",
    "car1 = car(\"Aulto\",\"Suzuki\")\n",
    "boat1 = boat(\"Ibiza\", \"Touring 20\") \n",
    "plane1 = plane(\"Boeing\", \"747\")  \n",
    "for i in (car1,boat1,plane1):\n",
    "    print(i.name,\"-\",i.brand)\n",
    "    i.move()"
   ]
  },
  {
   "cell_type": "markdown",
   "id": "c3ff60ac-3e65-40b5-b195-91ab7e05d9d4",
   "metadata": {},
   "source": [
    "## Polymorphism Typesm\n",
    "> - Duck Typing\n",
    "> - Operator Overloading\n",
    "> - Method Overloading\n",
    "> - Method Overriding"
   ]
  },
  {
   "cell_type": "markdown",
   "id": "f57d380a-8df1-4bbd-a412-ce1617e23484",
   "metadata": {},
   "source": [
    "### Duck Typing"
   ]
  },
  {
   "cell_type": "code",
   "execution_count": 1,
   "id": "1e434310-97c8-4505-8cb8-1715601929d9",
   "metadata": {},
   "outputs": [
    {
     "name": "stdout",
     "output_type": "stream",
     "text": [
      "I'm a duck.\n",
      "I pretend like a duck.\n"
     ]
    }
   ],
   "source": [
    "class duck:\n",
    "    def quack(self):\n",
    "        print(\"I'm a duck.\")\n",
    "\n",
    "class human:\n",
    "    def quack(self):\n",
    "        print(\"I pretend like a duck.\")\n",
    "\n",
    "class quacking:\n",
    "    def __init__(self,sound):\n",
    "        sound.quack()           # here sound is the duck, by changing its value we can change the function it access\n",
    "\n",
    "d = duck()\n",
    "p = human()\n",
    "\n",
    "quack = quacking(d) \n",
    "quack = quacking(p)"
   ]
  },
  {
   "cell_type": "markdown",
   "id": "0901a2f8-04a3-40d7-ac12-7c01ef65fb75",
   "metadata": {},
   "source": [
    "### Operator Overloading\n",
    "> - Use of `__str__` method is also operator overriding. It gives the address of object when printing a object initially. "
   ]
  },
  {
   "cell_type": "code",
   "execution_count": 14,
   "id": "9ea6ef70-0974-424b-af25-29c7ebe495bf",
   "metadata": {},
   "outputs": [
    {
     "name": "stdout",
     "output_type": "stream",
     "text": [
      "21\n",
      "21\n",
      "60 80\n",
      "800 1500\n"
     ]
    }
   ],
   "source": [
    "a = 10\n",
    "b = 11\n",
    "print(a+b)\n",
    "print(int.__add__(a,b))  # same as a + b\n",
    "\"\"\"\n",
    " if string then, str.__add__(a,b)\n",
    " __add__(), __sub__(), __mul__(), __div__(), \n",
    " __lt__()-less than, __gt__()-greater than, __ge__(),etc....\n",
    "\"\"\"\n",
    "\n",
    "class student:\n",
    "    def __init__(self, a, b):\n",
    "        self.a = a\n",
    "        self.b = b\n",
    "    def __add__(self, other): # overriding the add method\n",
    "        a = self.a + other.a\n",
    "        b = self.b + other.b\n",
    "        s3 = student(a, b) \n",
    "        return s3\n",
    "    def __mul__(self, other):\n",
    "        a = self.a * other.a\n",
    "        b = self.b * other.b\n",
    "        s4 = student(a, b) \n",
    "        return s4\n",
    "\n",
    "s1 = student(20,30)\n",
    "s2 = student(40,50)\n",
    "s3 = s1 + s2        # same as student.__add__(s1,s2)\n",
    "s4 = s1 * s2\n",
    "print(s3.a, s3.b)\n",
    "print(s4.a, s4.b)"
   ]
  },
  {
   "cell_type": "markdown",
   "id": "932ca633-52c8-45a1-888a-4a9eff709272",
   "metadata": {},
   "source": [
    "### Method Overloading\n",
    "> - Python don't have it.\n",
    "> - Two functions with same name but different number of parameters.\n",
    "> - eg, `average(a,b)` and `averge(a)` will be different functions, if we give average(10) then the second function will be accessed and average(2,10) will access the first function."
   ]
  },
  {
   "cell_type": "markdown",
   "id": "cb1135db-52e9-41c2-ac98-243deb2d5671",
   "metadata": {},
   "source": [
    "### Method Overriding"
   ]
  },
  {
   "cell_type": "code",
   "execution_count": 20,
   "id": "300fd960-dcf8-4e52-b23f-4f95c9f09849",
   "metadata": {},
   "outputs": [
    {
     "name": "stdout",
     "output_type": "stream",
     "text": [
      "Sail\n"
     ]
    }
   ],
   "source": [
    "class car:\n",
    "    def __init__(self, name, brand):\n",
    "        self.name = name\n",
    "        self.brand = brand\n",
    "    def move(self):\n",
    "        print(\"Drive\")\n",
    "class boat(car):\n",
    "    def __init__(self,name,brand):\n",
    "        self.name = name\n",
    "        self.brand = brand\n",
    "    def move(self):\n",
    "        print(\"Sail\")\n",
    "\n",
    "car1 = car(\"Aulto\",\"Suzuki\")\n",
    "boat1 = boat(\"Ibiza\", \"Touring 20\") \n",
    "\n",
    "boat1.move()   # override parent method method"
   ]
  },
  {
   "cell_type": "markdown",
   "id": "372332d4-59f4-47d7-8044-662f30dad49e",
   "metadata": {},
   "source": [
    "# Encapsulation\n",
    ">Encapsulation in Python is an OOP principle that bundles the data and methods that operate on that data within one unit (a class), and restricts direct\n",
    ">access to some of the object’s components to prevent accidental modification.\n",
    "> - **Public members**: Accessible from anywhere.\n",
    "> - **Protected members** (convention: _variable): Should not be accessed directly outside the class.\n",
    "> - **Private members** (__variable): Not accessible directly from outside the class.\n",
    "> - **Getter** & **Setter** can be user but not necessary and in python getter = **@property** & setter = **@name.setter**"
   ]
  },
  {
   "cell_type": "code",
   "execution_count": 21,
   "id": "02f3e03b-5ed2-48b6-b2e6-c9ab64c7bfbb",
   "metadata": {},
   "outputs": [
    {
     "name": "stdout",
     "output_type": "stream",
     "text": [
      "Thomas\n"
     ]
    },
    {
     "data": {
      "text/plain": [
       "(20000, 50)"
      ]
     },
     "execution_count": 21,
     "metadata": {},
     "output_type": "execute_result"
    }
   ],
   "source": [
    "class bankacc:\n",
    "    def __init__(self,name,age):\n",
    "        self.name = name\n",
    "        self._age = age           # private \n",
    "        self.__bankbal = 50000    # protected \n",
    "    def printbal(self, bankbal):\n",
    "        self.__bankbal = bankbal\n",
    "        return self.__bankbal, self._age\n",
    "p1 = bankacc(\"Thomas\",25)\n",
    "print(p1.name)\n",
    "# print(p1.age)     - error\n",
    "# print(p1.bankbal) - error\n",
    "p1._age = 50\n",
    "p1.printbal(20000)       # can be accessed by a function"
   ]
  },
  {
   "cell_type": "markdown",
   "id": "434b0256-667e-4d4e-8e20-3731c16a1d1e",
   "metadata": {},
   "source": [
    "# Abstraction\n",
    ">Abstraction means hiding the complex implementation details and showing only the essential features of an object. It allows you to focus on what an object does instead of how it does it.\n",
    "\n",
    ">In Python, abstraction is mainly achieved using abstract classes and interfaces, which are defined using the abc module (abc stands for Abstract Base Classes)."
   ]
  },
  {
   "cell_type": "code",
   "execution_count": 27,
   "id": "b07f9024-8a7b-40be-92c2-3cc0d2d0d5a4",
   "metadata": {},
   "outputs": [
    {
     "name": "stdout",
     "output_type": "stream",
     "text": [
      "Paid 50000 via paypal\n",
      "Paid 50000 via upi\n",
      "Paid 50000 via credit card\n"
     ]
    }
   ],
   "source": [
    "from abc import ABC, abstractmethod\n",
    "class payment(ABC):         # can't create object for abstract class\n",
    "    @abstractmethod\n",
    "    def pay(self):\n",
    "        print(\"Payment done\")\n",
    "class paypal(payment):\n",
    "    def pay(self, amount):\n",
    "        print(f\"Paid {amount} via paypal\")\n",
    "class upi(payment):\n",
    "    def pay(self, amount):\n",
    "        print(f\"Paid {amount} via upi\")\n",
    "class creditcard(payment):\n",
    "    def pay(self, amount):\n",
    "        print(f\"Paid {amount} via credit card\")\n",
    "def process_pay(payment_method : payment , amount):\n",
    "    payment_method.pay(amount)\n",
    "\n",
    "payments = [ paypal() , upi() , creditcard() ]\n",
    "for i in payments:\n",
    "    process_pay(i,50000)\n",
    "\"\"\"\n",
    "Uses a real-world scenario (payment systems).\n",
    "\n",
    "Applies abstraction to enforce a consistent interface (pay method).\n",
    "\n",
    "Hides implementation details (CreditCardPayment, UpiPayment, etc.).\n",
    "\n",
    "You can add new payment types without changing the existing process_payment function — a key benefit of abstraction.\n",
    "\"\"\""
   ]
  }
 ],
 "metadata": {
  "kernelspec": {
   "display_name": "Python [conda env:base] *",
   "language": "python",
   "name": "conda-base-py"
  },
  "language_info": {
   "codemirror_mode": {
    "name": "ipython",
    "version": 3
   },
   "file_extension": ".py",
   "mimetype": "text/x-python",
   "name": "python",
   "nbconvert_exporter": "python",
   "pygments_lexer": "ipython3",
   "version": "3.12.7"
  }
 },
 "nbformat": 4,
 "nbformat_minor": 5
}
